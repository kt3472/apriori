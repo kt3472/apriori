{
 "cells": [
  {
   "cell_type": "code",
   "execution_count": 152,
   "metadata": {},
   "outputs": [],
   "source": [
    "import pandas as pd\n",
    "import numpy as np\n",
    "\n",
    "from mlxtend.preprocessing import TransactionEncoder\n",
    "from mlxtend.frequent_patterns import apriori\n",
    "from mlxtend.frequent_patterns import association_rules\n",
    "\n",
    "\n",
    "import matplotlib.pyplot as plt"
   ]
  },
  {
   "cell_type": "code",
   "execution_count": 165,
   "metadata": {},
   "outputs": [],
   "source": [
    "df = pd.read_excel(\"./data/retailInvestor_basket_0428.xlsx\")"
   ]
  },
  {
   "cell_type": "code",
   "execution_count": 166,
   "metadata": {},
   "outputs": [
    {
     "data": {
      "text/html": [
       "<div>\n",
       "<style scoped>\n",
       "    .dataframe tbody tr th:only-of-type {\n",
       "        vertical-align: middle;\n",
       "    }\n",
       "\n",
       "    .dataframe tbody tr th {\n",
       "        vertical-align: top;\n",
       "    }\n",
       "\n",
       "    .dataframe thead th {\n",
       "        text-align: right;\n",
       "    }\n",
       "</style>\n",
       "<table border=\"1\" class=\"dataframe\">\n",
       "  <thead>\n",
       "    <tr style=\"text-align: right;\">\n",
       "      <th></th>\n",
       "      <th>Symbol Name</th>\n",
       "      <th>KODEX 200</th>\n",
       "      <th>KODEX 레버리지</th>\n",
       "      <th>TIGER 200</th>\n",
       "      <th>KODEX 200선물인버스2X</th>\n",
       "      <th>KODEX 단기채권</th>\n",
       "      <th>TIGER 단기통안채</th>\n",
       "      <th>KBSTAR 200</th>\n",
       "      <th>KODEX 종합채권(AA-이상)액티브</th>\n",
       "      <th>KODEX 코스닥150 레버리지</th>\n",
       "      <th>...</th>\n",
       "      <th>TIGER 대만TAIEX선물(H)</th>\n",
       "      <th>TIGER 금속선물(H)</th>\n",
       "      <th>KBSTAR 200중공업</th>\n",
       "      <th>ARIRANG ESG우수기업</th>\n",
       "      <th>ARIRANG KRX300IT</th>\n",
       "      <th>KBSTAR 200에너지화학</th>\n",
       "      <th>TIGER 코스닥150로우볼</th>\n",
       "      <th>ARIRANG KRX300금융</th>\n",
       "      <th>ARIRANG 스마트베타 Momentum</th>\n",
       "      <th>ARIRANG KRX300자유소비재</th>\n",
       "    </tr>\n",
       "  </thead>\n",
       "  <tbody>\n",
       "    <tr>\n",
       "      <th>0</th>\n",
       "      <td>2010-01-04</td>\n",
       "      <td>-480644</td>\n",
       "      <td>0</td>\n",
       "      <td>-770</td>\n",
       "      <td>0</td>\n",
       "      <td>0</td>\n",
       "      <td>0</td>\n",
       "      <td>0</td>\n",
       "      <td>0</td>\n",
       "      <td>0</td>\n",
       "      <td>...</td>\n",
       "      <td>0</td>\n",
       "      <td>0</td>\n",
       "      <td>0</td>\n",
       "      <td>0</td>\n",
       "      <td>0</td>\n",
       "      <td>0</td>\n",
       "      <td>0</td>\n",
       "      <td>0</td>\n",
       "      <td>0</td>\n",
       "      <td>0</td>\n",
       "    </tr>\n",
       "    <tr>\n",
       "      <th>1</th>\n",
       "      <td>2010-01-05</td>\n",
       "      <td>64395</td>\n",
       "      <td>0</td>\n",
       "      <td>-32</td>\n",
       "      <td>0</td>\n",
       "      <td>0</td>\n",
       "      <td>0</td>\n",
       "      <td>0</td>\n",
       "      <td>0</td>\n",
       "      <td>0</td>\n",
       "      <td>...</td>\n",
       "      <td>0</td>\n",
       "      <td>0</td>\n",
       "      <td>0</td>\n",
       "      <td>0</td>\n",
       "      <td>0</td>\n",
       "      <td>0</td>\n",
       "      <td>0</td>\n",
       "      <td>0</td>\n",
       "      <td>0</td>\n",
       "      <td>0</td>\n",
       "    </tr>\n",
       "    <tr>\n",
       "      <th>2</th>\n",
       "      <td>2010-01-06</td>\n",
       "      <td>-261319</td>\n",
       "      <td>0</td>\n",
       "      <td>-2775</td>\n",
       "      <td>0</td>\n",
       "      <td>0</td>\n",
       "      <td>0</td>\n",
       "      <td>0</td>\n",
       "      <td>0</td>\n",
       "      <td>0</td>\n",
       "      <td>...</td>\n",
       "      <td>0</td>\n",
       "      <td>0</td>\n",
       "      <td>0</td>\n",
       "      <td>0</td>\n",
       "      <td>0</td>\n",
       "      <td>0</td>\n",
       "      <td>0</td>\n",
       "      <td>0</td>\n",
       "      <td>0</td>\n",
       "      <td>0</td>\n",
       "    </tr>\n",
       "    <tr>\n",
       "      <th>3</th>\n",
       "      <td>2010-01-07</td>\n",
       "      <td>460193</td>\n",
       "      <td>0</td>\n",
       "      <td>305</td>\n",
       "      <td>0</td>\n",
       "      <td>0</td>\n",
       "      <td>0</td>\n",
       "      <td>0</td>\n",
       "      <td>0</td>\n",
       "      <td>0</td>\n",
       "      <td>...</td>\n",
       "      <td>0</td>\n",
       "      <td>0</td>\n",
       "      <td>0</td>\n",
       "      <td>0</td>\n",
       "      <td>0</td>\n",
       "      <td>0</td>\n",
       "      <td>0</td>\n",
       "      <td>0</td>\n",
       "      <td>0</td>\n",
       "      <td>0</td>\n",
       "    </tr>\n",
       "    <tr>\n",
       "      <th>4</th>\n",
       "      <td>2010-01-08</td>\n",
       "      <td>-497700</td>\n",
       "      <td>0</td>\n",
       "      <td>10262</td>\n",
       "      <td>0</td>\n",
       "      <td>0</td>\n",
       "      <td>0</td>\n",
       "      <td>0</td>\n",
       "      <td>0</td>\n",
       "      <td>0</td>\n",
       "      <td>...</td>\n",
       "      <td>0</td>\n",
       "      <td>0</td>\n",
       "      <td>0</td>\n",
       "      <td>0</td>\n",
       "      <td>0</td>\n",
       "      <td>0</td>\n",
       "      <td>0</td>\n",
       "      <td>0</td>\n",
       "      <td>0</td>\n",
       "      <td>0</td>\n",
       "    </tr>\n",
       "  </tbody>\n",
       "</table>\n",
       "<p>5 rows × 450 columns</p>\n",
       "</div>"
      ],
      "text/plain": [
       "  Symbol Name  KODEX 200  KODEX 레버리지  TIGER 200  KODEX 200선물인버스2X  KODEX 단기채권  \\\n",
       "0  2010-01-04    -480644           0       -770                 0           0   \n",
       "1  2010-01-05      64395           0        -32                 0           0   \n",
       "2  2010-01-06    -261319           0      -2775                 0           0   \n",
       "3  2010-01-07     460193           0        305                 0           0   \n",
       "4  2010-01-08    -497700           0      10262                 0           0   \n",
       "\n",
       "   TIGER 단기통안채  KBSTAR 200  KODEX 종합채권(AA-이상)액티브  KODEX 코스닥150 레버리지  ...  \\\n",
       "0            0           0                     0                  0  ...   \n",
       "1            0           0                     0                  0  ...   \n",
       "2            0           0                     0                  0  ...   \n",
       "3            0           0                     0                  0  ...   \n",
       "4            0           0                     0                  0  ...   \n",
       "\n",
       "   TIGER 대만TAIEX선물(H)  TIGER 금속선물(H)  KBSTAR 200중공업  ARIRANG ESG우수기업  \\\n",
       "0                   0              0              0                0   \n",
       "1                   0              0              0                0   \n",
       "2                   0              0              0                0   \n",
       "3                   0              0              0                0   \n",
       "4                   0              0              0                0   \n",
       "\n",
       "   ARIRANG KRX300IT  KBSTAR 200에너지화학  TIGER 코스닥150로우볼  ARIRANG KRX300금융  \\\n",
       "0                 0                0                0                 0   \n",
       "1                 0                0                0                 0   \n",
       "2                 0                0                0                 0   \n",
       "3                 0                0                0                 0   \n",
       "4                 0                0                0                 0   \n",
       "\n",
       "   ARIRANG 스마트베타 Momentum  ARIRANG KRX300자유소비재  \n",
       "0                       0                    0  \n",
       "1                       0                    0  \n",
       "2                       0                    0  \n",
       "3                       0                    0  \n",
       "4                       0                    0  \n",
       "\n",
       "[5 rows x 450 columns]"
      ]
     },
     "execution_count": 166,
     "metadata": {},
     "output_type": "execute_result"
    }
   ],
   "source": [
    "df.head()"
   ]
  },
  {
   "cell_type": "code",
   "execution_count": 167,
   "metadata": {},
   "outputs": [
    {
     "name": "stdout",
     "output_type": "stream",
     "text": [
      "<class 'pandas.core.frame.DataFrame'>\n",
      "RangeIndex: 2547 entries, 0 to 2546\n",
      "Columns: 450 entries, Symbol Name to ARIRANG KRX300자유소비재\n",
      "dtypes: datetime64[ns](1), int64(449)\n",
      "memory usage: 8.7 MB\n"
     ]
    }
   ],
   "source": [
    "df.info()"
   ]
  },
  {
   "cell_type": "code",
   "execution_count": 168,
   "metadata": {},
   "outputs": [
    {
     "data": {
      "text/html": [
       "<div>\n",
       "<style scoped>\n",
       "    .dataframe tbody tr th:only-of-type {\n",
       "        vertical-align: middle;\n",
       "    }\n",
       "\n",
       "    .dataframe tbody tr th {\n",
       "        vertical-align: top;\n",
       "    }\n",
       "\n",
       "    .dataframe thead th {\n",
       "        text-align: right;\n",
       "    }\n",
       "</style>\n",
       "<table border=\"1\" class=\"dataframe\">\n",
       "  <thead>\n",
       "    <tr style=\"text-align: right;\">\n",
       "      <th></th>\n",
       "      <th>KODEX 200</th>\n",
       "      <th>KODEX 레버리지</th>\n",
       "      <th>TIGER 200</th>\n",
       "      <th>KODEX 200선물인버스2X</th>\n",
       "      <th>KODEX 단기채권</th>\n",
       "      <th>TIGER 단기통안채</th>\n",
       "      <th>KBSTAR 200</th>\n",
       "      <th>KODEX 종합채권(AA-이상)액티브</th>\n",
       "      <th>KODEX 코스닥150 레버리지</th>\n",
       "      <th>KODEX 200TR</th>\n",
       "      <th>...</th>\n",
       "      <th>TIGER 대만TAIEX선물(H)</th>\n",
       "      <th>TIGER 금속선물(H)</th>\n",
       "      <th>KBSTAR 200중공업</th>\n",
       "      <th>ARIRANG ESG우수기업</th>\n",
       "      <th>ARIRANG KRX300IT</th>\n",
       "      <th>KBSTAR 200에너지화학</th>\n",
       "      <th>TIGER 코스닥150로우볼</th>\n",
       "      <th>ARIRANG KRX300금융</th>\n",
       "      <th>ARIRANG 스마트베타 Momentum</th>\n",
       "      <th>ARIRANG KRX300자유소비재</th>\n",
       "    </tr>\n",
       "  </thead>\n",
       "  <tbody>\n",
       "    <tr>\n",
       "      <th>count</th>\n",
       "      <td>2.547000e+03</td>\n",
       "      <td>2.547000e+03</td>\n",
       "      <td>2.547000e+03</td>\n",
       "      <td>2.547000e+03</td>\n",
       "      <td>2.547000e+03</td>\n",
       "      <td>2.547000e+03</td>\n",
       "      <td>2547.000000</td>\n",
       "      <td>2547.000000</td>\n",
       "      <td>2.547000e+03</td>\n",
       "      <td>2547.000000</td>\n",
       "      <td>...</td>\n",
       "      <td>2547.000000</td>\n",
       "      <td>2547.000000</td>\n",
       "      <td>2547.000000</td>\n",
       "      <td>2547.000000</td>\n",
       "      <td>2547.000000</td>\n",
       "      <td>2547.000000</td>\n",
       "      <td>2547.000000</td>\n",
       "      <td>2547.000000</td>\n",
       "      <td>2547.000000</td>\n",
       "      <td>2547.000000</td>\n",
       "    </tr>\n",
       "    <tr>\n",
       "      <th>mean</th>\n",
       "      <td>-1.652058e+03</td>\n",
       "      <td>6.309025e+04</td>\n",
       "      <td>5.322846e+03</td>\n",
       "      <td>1.018325e+05</td>\n",
       "      <td>1.487911e+03</td>\n",
       "      <td>1.502517e+03</td>\n",
       "      <td>144.941500</td>\n",
       "      <td>327.690616</td>\n",
       "      <td>5.004548e+04</td>\n",
       "      <td>696.386337</td>\n",
       "      <td>...</td>\n",
       "      <td>3.772674</td>\n",
       "      <td>18.728308</td>\n",
       "      <td>5.049470</td>\n",
       "      <td>1.829211</td>\n",
       "      <td>6.049863</td>\n",
       "      <td>6.347075</td>\n",
       "      <td>6.678838</td>\n",
       "      <td>0.375736</td>\n",
       "      <td>2.760503</td>\n",
       "      <td>0.133098</td>\n",
       "    </tr>\n",
       "    <tr>\n",
       "      <th>std</th>\n",
       "      <td>5.920604e+05</td>\n",
       "      <td>5.183263e+06</td>\n",
       "      <td>1.446388e+05</td>\n",
       "      <td>1.517662e+06</td>\n",
       "      <td>8.127270e+04</td>\n",
       "      <td>1.861182e+05</td>\n",
       "      <td>12938.582029</td>\n",
       "      <td>12216.726505</td>\n",
       "      <td>1.278070e+06</td>\n",
       "      <td>6537.181263</td>\n",
       "      <td>...</td>\n",
       "      <td>338.692509</td>\n",
       "      <td>897.692858</td>\n",
       "      <td>203.008722</td>\n",
       "      <td>73.079057</td>\n",
       "      <td>233.277144</td>\n",
       "      <td>127.797481</td>\n",
       "      <td>1239.469255</td>\n",
       "      <td>27.908400</td>\n",
       "      <td>418.150055</td>\n",
       "      <td>10.900173</td>\n",
       "    </tr>\n",
       "    <tr>\n",
       "      <th>min</th>\n",
       "      <td>-3.157555e+06</td>\n",
       "      <td>-3.037051e+07</td>\n",
       "      <td>-2.470992e+06</td>\n",
       "      <td>-1.459465e+07</td>\n",
       "      <td>-2.179266e+06</td>\n",
       "      <td>-2.887659e+06</td>\n",
       "      <td>-213955.000000</td>\n",
       "      <td>-208515.000000</td>\n",
       "      <td>-1.054910e+07</td>\n",
       "      <td>-44115.000000</td>\n",
       "      <td>...</td>\n",
       "      <td>-4733.000000</td>\n",
       "      <td>-9384.000000</td>\n",
       "      <td>-4648.000000</td>\n",
       "      <td>-1039.000000</td>\n",
       "      <td>-2669.000000</td>\n",
       "      <td>-1658.000000</td>\n",
       "      <td>-21814.000000</td>\n",
       "      <td>-612.000000</td>\n",
       "      <td>-15515.000000</td>\n",
       "      <td>-246.000000</td>\n",
       "    </tr>\n",
       "    <tr>\n",
       "      <th>25%</th>\n",
       "      <td>-2.744310e+05</td>\n",
       "      <td>-1.759741e+06</td>\n",
       "      <td>-1.966450e+04</td>\n",
       "      <td>0.000000e+00</td>\n",
       "      <td>-1.136100e+04</td>\n",
       "      <td>-2.318500e+03</td>\n",
       "      <td>-352.000000</td>\n",
       "      <td>0.000000</td>\n",
       "      <td>0.000000e+00</td>\n",
       "      <td>0.000000</td>\n",
       "      <td>...</td>\n",
       "      <td>0.000000</td>\n",
       "      <td>-21.000000</td>\n",
       "      <td>0.000000</td>\n",
       "      <td>0.000000</td>\n",
       "      <td>0.000000</td>\n",
       "      <td>0.000000</td>\n",
       "      <td>0.000000</td>\n",
       "      <td>0.000000</td>\n",
       "      <td>0.000000</td>\n",
       "      <td>0.000000</td>\n",
       "    </tr>\n",
       "    <tr>\n",
       "      <th>50%</th>\n",
       "      <td>-3.952400e+04</td>\n",
       "      <td>-4.407300e+04</td>\n",
       "      <td>4.730000e+02</td>\n",
       "      <td>0.000000e+00</td>\n",
       "      <td>0.000000e+00</td>\n",
       "      <td>0.000000e+00</td>\n",
       "      <td>0.000000</td>\n",
       "      <td>0.000000</td>\n",
       "      <td>0.000000e+00</td>\n",
       "      <td>0.000000</td>\n",
       "      <td>...</td>\n",
       "      <td>0.000000</td>\n",
       "      <td>0.000000</td>\n",
       "      <td>0.000000</td>\n",
       "      <td>0.000000</td>\n",
       "      <td>0.000000</td>\n",
       "      <td>0.000000</td>\n",
       "      <td>0.000000</td>\n",
       "      <td>0.000000</td>\n",
       "      <td>0.000000</td>\n",
       "      <td>0.000000</td>\n",
       "    </tr>\n",
       "    <tr>\n",
       "      <th>75%</th>\n",
       "      <td>2.110450e+05</td>\n",
       "      <td>1.546147e+06</td>\n",
       "      <td>2.211800e+04</td>\n",
       "      <td>0.000000e+00</td>\n",
       "      <td>1.371550e+04</td>\n",
       "      <td>3.184000e+03</td>\n",
       "      <td>733.500000</td>\n",
       "      <td>0.000000</td>\n",
       "      <td>0.000000e+00</td>\n",
       "      <td>0.000000</td>\n",
       "      <td>...</td>\n",
       "      <td>0.000000</td>\n",
       "      <td>50.000000</td>\n",
       "      <td>0.000000</td>\n",
       "      <td>0.000000</td>\n",
       "      <td>0.000000</td>\n",
       "      <td>0.000000</td>\n",
       "      <td>0.000000</td>\n",
       "      <td>0.000000</td>\n",
       "      <td>0.000000</td>\n",
       "      <td>0.000000</td>\n",
       "    </tr>\n",
       "    <tr>\n",
       "      <th>max</th>\n",
       "      <td>3.799112e+06</td>\n",
       "      <td>3.213692e+07</td>\n",
       "      <td>1.340038e+06</td>\n",
       "      <td>2.176018e+07</td>\n",
       "      <td>1.373779e+06</td>\n",
       "      <td>5.374748e+06</td>\n",
       "      <td>176861.000000</td>\n",
       "      <td>127652.000000</td>\n",
       "      <td>1.676320e+07</td>\n",
       "      <td>177910.000000</td>\n",
       "      <td>...</td>\n",
       "      <td>5245.000000</td>\n",
       "      <td>16539.000000</td>\n",
       "      <td>5183.000000</td>\n",
       "      <td>1255.000000</td>\n",
       "      <td>7492.000000</td>\n",
       "      <td>2996.000000</td>\n",
       "      <td>36318.000000</td>\n",
       "      <td>603.000000</td>\n",
       "      <td>6063.000000</td>\n",
       "      <td>278.000000</td>\n",
       "    </tr>\n",
       "  </tbody>\n",
       "</table>\n",
       "<p>8 rows × 449 columns</p>\n",
       "</div>"
      ],
      "text/plain": [
       "          KODEX 200    KODEX 레버리지     TIGER 200  KODEX 200선물인버스2X  \\\n",
       "count  2.547000e+03  2.547000e+03  2.547000e+03      2.547000e+03   \n",
       "mean  -1.652058e+03  6.309025e+04  5.322846e+03      1.018325e+05   \n",
       "std    5.920604e+05  5.183263e+06  1.446388e+05      1.517662e+06   \n",
       "min   -3.157555e+06 -3.037051e+07 -2.470992e+06     -1.459465e+07   \n",
       "25%   -2.744310e+05 -1.759741e+06 -1.966450e+04      0.000000e+00   \n",
       "50%   -3.952400e+04 -4.407300e+04  4.730000e+02      0.000000e+00   \n",
       "75%    2.110450e+05  1.546147e+06  2.211800e+04      0.000000e+00   \n",
       "max    3.799112e+06  3.213692e+07  1.340038e+06      2.176018e+07   \n",
       "\n",
       "         KODEX 단기채권   TIGER 단기통안채     KBSTAR 200  KODEX 종합채권(AA-이상)액티브  \\\n",
       "count  2.547000e+03  2.547000e+03    2547.000000           2547.000000   \n",
       "mean   1.487911e+03  1.502517e+03     144.941500            327.690616   \n",
       "std    8.127270e+04  1.861182e+05   12938.582029          12216.726505   \n",
       "min   -2.179266e+06 -2.887659e+06 -213955.000000        -208515.000000   \n",
       "25%   -1.136100e+04 -2.318500e+03    -352.000000              0.000000   \n",
       "50%    0.000000e+00  0.000000e+00       0.000000              0.000000   \n",
       "75%    1.371550e+04  3.184000e+03     733.500000              0.000000   \n",
       "max    1.373779e+06  5.374748e+06  176861.000000         127652.000000   \n",
       "\n",
       "       KODEX 코스닥150 레버리지    KODEX 200TR  ...  TIGER 대만TAIEX선물(H)  \\\n",
       "count       2.547000e+03    2547.000000  ...         2547.000000   \n",
       "mean        5.004548e+04     696.386337  ...            3.772674   \n",
       "std         1.278070e+06    6537.181263  ...          338.692509   \n",
       "min        -1.054910e+07  -44115.000000  ...        -4733.000000   \n",
       "25%         0.000000e+00       0.000000  ...            0.000000   \n",
       "50%         0.000000e+00       0.000000  ...            0.000000   \n",
       "75%         0.000000e+00       0.000000  ...            0.000000   \n",
       "max         1.676320e+07  177910.000000  ...         5245.000000   \n",
       "\n",
       "       TIGER 금속선물(H)  KBSTAR 200중공업  ARIRANG ESG우수기업  ARIRANG KRX300IT  \\\n",
       "count    2547.000000    2547.000000      2547.000000       2547.000000   \n",
       "mean       18.728308       5.049470         1.829211          6.049863   \n",
       "std       897.692858     203.008722        73.079057        233.277144   \n",
       "min     -9384.000000   -4648.000000     -1039.000000      -2669.000000   \n",
       "25%       -21.000000       0.000000         0.000000          0.000000   \n",
       "50%         0.000000       0.000000         0.000000          0.000000   \n",
       "75%        50.000000       0.000000         0.000000          0.000000   \n",
       "max     16539.000000    5183.000000      1255.000000       7492.000000   \n",
       "\n",
       "       KBSTAR 200에너지화학  TIGER 코스닥150로우볼  ARIRANG KRX300금융  \\\n",
       "count      2547.000000      2547.000000       2547.000000   \n",
       "mean          6.347075         6.678838          0.375736   \n",
       "std         127.797481      1239.469255         27.908400   \n",
       "min       -1658.000000    -21814.000000       -612.000000   \n",
       "25%           0.000000         0.000000          0.000000   \n",
       "50%           0.000000         0.000000          0.000000   \n",
       "75%           0.000000         0.000000          0.000000   \n",
       "max        2996.000000     36318.000000        603.000000   \n",
       "\n",
       "       ARIRANG 스마트베타 Momentum  ARIRANG KRX300자유소비재  \n",
       "count             2547.000000          2547.000000  \n",
       "mean                 2.760503             0.133098  \n",
       "std                418.150055            10.900173  \n",
       "min             -15515.000000          -246.000000  \n",
       "25%                  0.000000             0.000000  \n",
       "50%                  0.000000             0.000000  \n",
       "75%                  0.000000             0.000000  \n",
       "max               6063.000000           278.000000  \n",
       "\n",
       "[8 rows x 449 columns]"
      ]
     },
     "execution_count": 168,
     "metadata": {},
     "output_type": "execute_result"
    }
   ],
   "source": [
    "df.describe()"
   ]
  },
  {
   "cell_type": "markdown",
   "metadata": {},
   "source": [
    "- 2010년 ~ 2020년 4월까지의 일별 국내상장 ETF별 개인투자자 순매수 금액 데이터"
   ]
  },
  {
   "cell_type": "code",
   "execution_count": 169,
   "metadata": {},
   "outputs": [],
   "source": [
    "df_copy = df.copy()"
   ]
  },
  {
   "cell_type": "code",
   "execution_count": 170,
   "metadata": {},
   "outputs": [
    {
     "data": {
      "text/html": [
       "<div>\n",
       "<style scoped>\n",
       "    .dataframe tbody tr th:only-of-type {\n",
       "        vertical-align: middle;\n",
       "    }\n",
       "\n",
       "    .dataframe tbody tr th {\n",
       "        vertical-align: top;\n",
       "    }\n",
       "\n",
       "    .dataframe thead th {\n",
       "        text-align: right;\n",
       "    }\n",
       "</style>\n",
       "<table border=\"1\" class=\"dataframe\">\n",
       "  <thead>\n",
       "    <tr style=\"text-align: right;\">\n",
       "      <th></th>\n",
       "      <th>Symbol Name</th>\n",
       "      <th>KODEX 200</th>\n",
       "      <th>KODEX 레버리지</th>\n",
       "      <th>TIGER 200</th>\n",
       "      <th>KODEX 200선물인버스2X</th>\n",
       "      <th>KODEX 단기채권</th>\n",
       "      <th>TIGER 단기통안채</th>\n",
       "      <th>KBSTAR 200</th>\n",
       "      <th>KODEX 종합채권(AA-이상)액티브</th>\n",
       "      <th>KODEX 코스닥150 레버리지</th>\n",
       "      <th>...</th>\n",
       "      <th>TIGER 대만TAIEX선물(H)</th>\n",
       "      <th>TIGER 금속선물(H)</th>\n",
       "      <th>KBSTAR 200중공업</th>\n",
       "      <th>ARIRANG ESG우수기업</th>\n",
       "      <th>ARIRANG KRX300IT</th>\n",
       "      <th>KBSTAR 200에너지화학</th>\n",
       "      <th>TIGER 코스닥150로우볼</th>\n",
       "      <th>ARIRANG KRX300금융</th>\n",
       "      <th>ARIRANG 스마트베타 Momentum</th>\n",
       "      <th>ARIRANG KRX300자유소비재</th>\n",
       "    </tr>\n",
       "  </thead>\n",
       "  <tbody>\n",
       "    <tr>\n",
       "      <th>0</th>\n",
       "      <td>2010-01-04</td>\n",
       "      <td>-480644</td>\n",
       "      <td>0</td>\n",
       "      <td>-770</td>\n",
       "      <td>0</td>\n",
       "      <td>0</td>\n",
       "      <td>0</td>\n",
       "      <td>0</td>\n",
       "      <td>0</td>\n",
       "      <td>0</td>\n",
       "      <td>...</td>\n",
       "      <td>0</td>\n",
       "      <td>0</td>\n",
       "      <td>0</td>\n",
       "      <td>0</td>\n",
       "      <td>0</td>\n",
       "      <td>0</td>\n",
       "      <td>0</td>\n",
       "      <td>0</td>\n",
       "      <td>0</td>\n",
       "      <td>0</td>\n",
       "    </tr>\n",
       "    <tr>\n",
       "      <th>1</th>\n",
       "      <td>2010-01-05</td>\n",
       "      <td>64395</td>\n",
       "      <td>0</td>\n",
       "      <td>-32</td>\n",
       "      <td>0</td>\n",
       "      <td>0</td>\n",
       "      <td>0</td>\n",
       "      <td>0</td>\n",
       "      <td>0</td>\n",
       "      <td>0</td>\n",
       "      <td>...</td>\n",
       "      <td>0</td>\n",
       "      <td>0</td>\n",
       "      <td>0</td>\n",
       "      <td>0</td>\n",
       "      <td>0</td>\n",
       "      <td>0</td>\n",
       "      <td>0</td>\n",
       "      <td>0</td>\n",
       "      <td>0</td>\n",
       "      <td>0</td>\n",
       "    </tr>\n",
       "    <tr>\n",
       "      <th>2</th>\n",
       "      <td>2010-01-06</td>\n",
       "      <td>-261319</td>\n",
       "      <td>0</td>\n",
       "      <td>-2775</td>\n",
       "      <td>0</td>\n",
       "      <td>0</td>\n",
       "      <td>0</td>\n",
       "      <td>0</td>\n",
       "      <td>0</td>\n",
       "      <td>0</td>\n",
       "      <td>...</td>\n",
       "      <td>0</td>\n",
       "      <td>0</td>\n",
       "      <td>0</td>\n",
       "      <td>0</td>\n",
       "      <td>0</td>\n",
       "      <td>0</td>\n",
       "      <td>0</td>\n",
       "      <td>0</td>\n",
       "      <td>0</td>\n",
       "      <td>0</td>\n",
       "    </tr>\n",
       "    <tr>\n",
       "      <th>3</th>\n",
       "      <td>2010-01-07</td>\n",
       "      <td>460193</td>\n",
       "      <td>0</td>\n",
       "      <td>305</td>\n",
       "      <td>0</td>\n",
       "      <td>0</td>\n",
       "      <td>0</td>\n",
       "      <td>0</td>\n",
       "      <td>0</td>\n",
       "      <td>0</td>\n",
       "      <td>...</td>\n",
       "      <td>0</td>\n",
       "      <td>0</td>\n",
       "      <td>0</td>\n",
       "      <td>0</td>\n",
       "      <td>0</td>\n",
       "      <td>0</td>\n",
       "      <td>0</td>\n",
       "      <td>0</td>\n",
       "      <td>0</td>\n",
       "      <td>0</td>\n",
       "    </tr>\n",
       "    <tr>\n",
       "      <th>4</th>\n",
       "      <td>2010-01-08</td>\n",
       "      <td>-497700</td>\n",
       "      <td>0</td>\n",
       "      <td>10262</td>\n",
       "      <td>0</td>\n",
       "      <td>0</td>\n",
       "      <td>0</td>\n",
       "      <td>0</td>\n",
       "      <td>0</td>\n",
       "      <td>0</td>\n",
       "      <td>...</td>\n",
       "      <td>0</td>\n",
       "      <td>0</td>\n",
       "      <td>0</td>\n",
       "      <td>0</td>\n",
       "      <td>0</td>\n",
       "      <td>0</td>\n",
       "      <td>0</td>\n",
       "      <td>0</td>\n",
       "      <td>0</td>\n",
       "      <td>0</td>\n",
       "    </tr>\n",
       "  </tbody>\n",
       "</table>\n",
       "<p>5 rows × 450 columns</p>\n",
       "</div>"
      ],
      "text/plain": [
       "  Symbol Name  KODEX 200  KODEX 레버리지  TIGER 200  KODEX 200선물인버스2X  KODEX 단기채권  \\\n",
       "0  2010-01-04    -480644           0       -770                 0           0   \n",
       "1  2010-01-05      64395           0        -32                 0           0   \n",
       "2  2010-01-06    -261319           0      -2775                 0           0   \n",
       "3  2010-01-07     460193           0        305                 0           0   \n",
       "4  2010-01-08    -497700           0      10262                 0           0   \n",
       "\n",
       "   TIGER 단기통안채  KBSTAR 200  KODEX 종합채권(AA-이상)액티브  KODEX 코스닥150 레버리지  ...  \\\n",
       "0            0           0                     0                  0  ...   \n",
       "1            0           0                     0                  0  ...   \n",
       "2            0           0                     0                  0  ...   \n",
       "3            0           0                     0                  0  ...   \n",
       "4            0           0                     0                  0  ...   \n",
       "\n",
       "   TIGER 대만TAIEX선물(H)  TIGER 금속선물(H)  KBSTAR 200중공업  ARIRANG ESG우수기업  \\\n",
       "0                   0              0              0                0   \n",
       "1                   0              0              0                0   \n",
       "2                   0              0              0                0   \n",
       "3                   0              0              0                0   \n",
       "4                   0              0              0                0   \n",
       "\n",
       "   ARIRANG KRX300IT  KBSTAR 200에너지화학  TIGER 코스닥150로우볼  ARIRANG KRX300금융  \\\n",
       "0                 0                0                0                 0   \n",
       "1                 0                0                0                 0   \n",
       "2                 0                0                0                 0   \n",
       "3                 0                0                0                 0   \n",
       "4                 0                0                0                 0   \n",
       "\n",
       "   ARIRANG 스마트베타 Momentum  ARIRANG KRX300자유소비재  \n",
       "0                       0                    0  \n",
       "1                       0                    0  \n",
       "2                       0                    0  \n",
       "3                       0                    0  \n",
       "4                       0                    0  \n",
       "\n",
       "[5 rows x 450 columns]"
      ]
     },
     "execution_count": 170,
     "metadata": {},
     "output_type": "execute_result"
    }
   ],
   "source": [
    "df_copy.head()"
   ]
  },
  {
   "cell_type": "code",
   "execution_count": 171,
   "metadata": {},
   "outputs": [],
   "source": [
    "col_name = df_copy.columns"
   ]
  },
  {
   "cell_type": "code",
   "execution_count": 172,
   "metadata": {},
   "outputs": [
    {
     "data": {
      "text/plain": [
       "Index(['Symbol Name', 'KODEX 200', 'KODEX 레버리지', 'TIGER 200',\n",
       "       'KODEX 200선물인버스2X', 'KODEX 단기채권', 'TIGER 단기통안채', 'KBSTAR 200',\n",
       "       'KODEX 종합채권(AA-이상)액티브', 'KODEX 코스닥150 레버리지',\n",
       "       ...\n",
       "       'TIGER 대만TAIEX선물(H)', 'TIGER 금속선물(H)', 'KBSTAR 200중공업',\n",
       "       'ARIRANG ESG우수기업', 'ARIRANG KRX300IT', 'KBSTAR 200에너지화학',\n",
       "       'TIGER 코스닥150로우볼', 'ARIRANG KRX300금융', 'ARIRANG 스마트베타 Momentum',\n",
       "       'ARIRANG KRX300자유소비재'],\n",
       "      dtype='object', length=450)"
      ]
     },
     "execution_count": 172,
     "metadata": {},
     "output_type": "execute_result"
    }
   ],
   "source": [
    "col_name"
   ]
  },
  {
   "cell_type": "code",
   "execution_count": 173,
   "metadata": {},
   "outputs": [],
   "source": [
    "col_name = col_name.drop('Symbol Name')"
   ]
  },
  {
   "cell_type": "markdown",
   "metadata": {},
   "source": [
    "- 순매수 금액이 1억을 넘으면 \"1\", 그렇지 않으면 \"0\" 으로 인코딩"
   ]
  },
  {
   "cell_type": "code",
   "execution_count": 174,
   "metadata": {},
   "outputs": [],
   "source": [
    "for i in col_name:\n",
    "    \n",
    "    m_buy = df_copy[i] > 100000\n",
    "    m_none = df_copy[i] < 100000\n",
    "    \n",
    "    df_copy.loc[m_buy, i] = 1\n",
    "    df_copy.loc[m_none, i] = 0"
   ]
  },
  {
   "cell_type": "code",
   "execution_count": 175,
   "metadata": {
    "scrolled": false
   },
   "outputs": [
    {
     "data": {
      "text/html": [
       "<div>\n",
       "<style scoped>\n",
       "    .dataframe tbody tr th:only-of-type {\n",
       "        vertical-align: middle;\n",
       "    }\n",
       "\n",
       "    .dataframe tbody tr th {\n",
       "        vertical-align: top;\n",
       "    }\n",
       "\n",
       "    .dataframe thead th {\n",
       "        text-align: right;\n",
       "    }\n",
       "</style>\n",
       "<table border=\"1\" class=\"dataframe\">\n",
       "  <thead>\n",
       "    <tr style=\"text-align: right;\">\n",
       "      <th></th>\n",
       "      <th>Symbol Name</th>\n",
       "      <th>KODEX 200</th>\n",
       "      <th>KODEX 레버리지</th>\n",
       "      <th>TIGER 200</th>\n",
       "      <th>KODEX 200선물인버스2X</th>\n",
       "      <th>KODEX 단기채권</th>\n",
       "      <th>TIGER 단기통안채</th>\n",
       "      <th>KBSTAR 200</th>\n",
       "      <th>KODEX 종합채권(AA-이상)액티브</th>\n",
       "      <th>KODEX 코스닥150 레버리지</th>\n",
       "      <th>...</th>\n",
       "      <th>TIGER 대만TAIEX선물(H)</th>\n",
       "      <th>TIGER 금속선물(H)</th>\n",
       "      <th>KBSTAR 200중공업</th>\n",
       "      <th>ARIRANG ESG우수기업</th>\n",
       "      <th>ARIRANG KRX300IT</th>\n",
       "      <th>KBSTAR 200에너지화학</th>\n",
       "      <th>TIGER 코스닥150로우볼</th>\n",
       "      <th>ARIRANG KRX300금융</th>\n",
       "      <th>ARIRANG 스마트베타 Momentum</th>\n",
       "      <th>ARIRANG KRX300자유소비재</th>\n",
       "    </tr>\n",
       "  </thead>\n",
       "  <tbody>\n",
       "    <tr>\n",
       "      <th>0</th>\n",
       "      <td>2010-01-04</td>\n",
       "      <td>0</td>\n",
       "      <td>0</td>\n",
       "      <td>0</td>\n",
       "      <td>0</td>\n",
       "      <td>0</td>\n",
       "      <td>0</td>\n",
       "      <td>0</td>\n",
       "      <td>0</td>\n",
       "      <td>0</td>\n",
       "      <td>...</td>\n",
       "      <td>0</td>\n",
       "      <td>0</td>\n",
       "      <td>0</td>\n",
       "      <td>0</td>\n",
       "      <td>0</td>\n",
       "      <td>0</td>\n",
       "      <td>0</td>\n",
       "      <td>0</td>\n",
       "      <td>0</td>\n",
       "      <td>0</td>\n",
       "    </tr>\n",
       "    <tr>\n",
       "      <th>1</th>\n",
       "      <td>2010-01-05</td>\n",
       "      <td>0</td>\n",
       "      <td>0</td>\n",
       "      <td>0</td>\n",
       "      <td>0</td>\n",
       "      <td>0</td>\n",
       "      <td>0</td>\n",
       "      <td>0</td>\n",
       "      <td>0</td>\n",
       "      <td>0</td>\n",
       "      <td>...</td>\n",
       "      <td>0</td>\n",
       "      <td>0</td>\n",
       "      <td>0</td>\n",
       "      <td>0</td>\n",
       "      <td>0</td>\n",
       "      <td>0</td>\n",
       "      <td>0</td>\n",
       "      <td>0</td>\n",
       "      <td>0</td>\n",
       "      <td>0</td>\n",
       "    </tr>\n",
       "    <tr>\n",
       "      <th>2</th>\n",
       "      <td>2010-01-06</td>\n",
       "      <td>0</td>\n",
       "      <td>0</td>\n",
       "      <td>0</td>\n",
       "      <td>0</td>\n",
       "      <td>0</td>\n",
       "      <td>0</td>\n",
       "      <td>0</td>\n",
       "      <td>0</td>\n",
       "      <td>0</td>\n",
       "      <td>...</td>\n",
       "      <td>0</td>\n",
       "      <td>0</td>\n",
       "      <td>0</td>\n",
       "      <td>0</td>\n",
       "      <td>0</td>\n",
       "      <td>0</td>\n",
       "      <td>0</td>\n",
       "      <td>0</td>\n",
       "      <td>0</td>\n",
       "      <td>0</td>\n",
       "    </tr>\n",
       "    <tr>\n",
       "      <th>3</th>\n",
       "      <td>2010-01-07</td>\n",
       "      <td>1</td>\n",
       "      <td>0</td>\n",
       "      <td>0</td>\n",
       "      <td>0</td>\n",
       "      <td>0</td>\n",
       "      <td>0</td>\n",
       "      <td>0</td>\n",
       "      <td>0</td>\n",
       "      <td>0</td>\n",
       "      <td>...</td>\n",
       "      <td>0</td>\n",
       "      <td>0</td>\n",
       "      <td>0</td>\n",
       "      <td>0</td>\n",
       "      <td>0</td>\n",
       "      <td>0</td>\n",
       "      <td>0</td>\n",
       "      <td>0</td>\n",
       "      <td>0</td>\n",
       "      <td>0</td>\n",
       "    </tr>\n",
       "    <tr>\n",
       "      <th>4</th>\n",
       "      <td>2010-01-08</td>\n",
       "      <td>0</td>\n",
       "      <td>0</td>\n",
       "      <td>0</td>\n",
       "      <td>0</td>\n",
       "      <td>0</td>\n",
       "      <td>0</td>\n",
       "      <td>0</td>\n",
       "      <td>0</td>\n",
       "      <td>0</td>\n",
       "      <td>...</td>\n",
       "      <td>0</td>\n",
       "      <td>0</td>\n",
       "      <td>0</td>\n",
       "      <td>0</td>\n",
       "      <td>0</td>\n",
       "      <td>0</td>\n",
       "      <td>0</td>\n",
       "      <td>0</td>\n",
       "      <td>0</td>\n",
       "      <td>0</td>\n",
       "    </tr>\n",
       "  </tbody>\n",
       "</table>\n",
       "<p>5 rows × 450 columns</p>\n",
       "</div>"
      ],
      "text/plain": [
       "  Symbol Name  KODEX 200  KODEX 레버리지  TIGER 200  KODEX 200선물인버스2X  KODEX 단기채권  \\\n",
       "0  2010-01-04          0           0          0                 0           0   \n",
       "1  2010-01-05          0           0          0                 0           0   \n",
       "2  2010-01-06          0           0          0                 0           0   \n",
       "3  2010-01-07          1           0          0                 0           0   \n",
       "4  2010-01-08          0           0          0                 0           0   \n",
       "\n",
       "   TIGER 단기통안채  KBSTAR 200  KODEX 종합채권(AA-이상)액티브  KODEX 코스닥150 레버리지  ...  \\\n",
       "0            0           0                     0                  0  ...   \n",
       "1            0           0                     0                  0  ...   \n",
       "2            0           0                     0                  0  ...   \n",
       "3            0           0                     0                  0  ...   \n",
       "4            0           0                     0                  0  ...   \n",
       "\n",
       "   TIGER 대만TAIEX선물(H)  TIGER 금속선물(H)  KBSTAR 200중공업  ARIRANG ESG우수기업  \\\n",
       "0                   0              0              0                0   \n",
       "1                   0              0              0                0   \n",
       "2                   0              0              0                0   \n",
       "3                   0              0              0                0   \n",
       "4                   0              0              0                0   \n",
       "\n",
       "   ARIRANG KRX300IT  KBSTAR 200에너지화학  TIGER 코스닥150로우볼  ARIRANG KRX300금융  \\\n",
       "0                 0                0                0                 0   \n",
       "1                 0                0                0                 0   \n",
       "2                 0                0                0                 0   \n",
       "3                 0                0                0                 0   \n",
       "4                 0                0                0                 0   \n",
       "\n",
       "   ARIRANG 스마트베타 Momentum  ARIRANG KRX300자유소비재  \n",
       "0                       0                    0  \n",
       "1                       0                    0  \n",
       "2                       0                    0  \n",
       "3                       0                    0  \n",
       "4                       0                    0  \n",
       "\n",
       "[5 rows x 450 columns]"
      ]
     },
     "execution_count": 175,
     "metadata": {},
     "output_type": "execute_result"
    }
   ],
   "source": [
    "df_copy.head()"
   ]
  },
  {
   "cell_type": "code",
   "execution_count": 176,
   "metadata": {},
   "outputs": [],
   "source": [
    "df_copy.drop(['Symbol Name'], inplace = True, axis = 1)"
   ]
  },
  {
   "cell_type": "code",
   "execution_count": 177,
   "metadata": {},
   "outputs": [
    {
     "data": {
      "text/html": [
       "<div>\n",
       "<style scoped>\n",
       "    .dataframe tbody tr th:only-of-type {\n",
       "        vertical-align: middle;\n",
       "    }\n",
       "\n",
       "    .dataframe tbody tr th {\n",
       "        vertical-align: top;\n",
       "    }\n",
       "\n",
       "    .dataframe thead th {\n",
       "        text-align: right;\n",
       "    }\n",
       "</style>\n",
       "<table border=\"1\" class=\"dataframe\">\n",
       "  <thead>\n",
       "    <tr style=\"text-align: right;\">\n",
       "      <th></th>\n",
       "      <th>KODEX 200</th>\n",
       "      <th>KODEX 레버리지</th>\n",
       "      <th>TIGER 200</th>\n",
       "      <th>KODEX 200선물인버스2X</th>\n",
       "      <th>KODEX 단기채권</th>\n",
       "      <th>TIGER 단기통안채</th>\n",
       "      <th>KBSTAR 200</th>\n",
       "      <th>KODEX 종합채권(AA-이상)액티브</th>\n",
       "      <th>KODEX 코스닥150 레버리지</th>\n",
       "      <th>KODEX 200TR</th>\n",
       "      <th>...</th>\n",
       "      <th>TIGER 대만TAIEX선물(H)</th>\n",
       "      <th>TIGER 금속선물(H)</th>\n",
       "      <th>KBSTAR 200중공업</th>\n",
       "      <th>ARIRANG ESG우수기업</th>\n",
       "      <th>ARIRANG KRX300IT</th>\n",
       "      <th>KBSTAR 200에너지화학</th>\n",
       "      <th>TIGER 코스닥150로우볼</th>\n",
       "      <th>ARIRANG KRX300금융</th>\n",
       "      <th>ARIRANG 스마트베타 Momentum</th>\n",
       "      <th>ARIRANG KRX300자유소비재</th>\n",
       "    </tr>\n",
       "  </thead>\n",
       "  <tbody>\n",
       "    <tr>\n",
       "      <th>0</th>\n",
       "      <td>0</td>\n",
       "      <td>0</td>\n",
       "      <td>0</td>\n",
       "      <td>0</td>\n",
       "      <td>0</td>\n",
       "      <td>0</td>\n",
       "      <td>0</td>\n",
       "      <td>0</td>\n",
       "      <td>0</td>\n",
       "      <td>0</td>\n",
       "      <td>...</td>\n",
       "      <td>0</td>\n",
       "      <td>0</td>\n",
       "      <td>0</td>\n",
       "      <td>0</td>\n",
       "      <td>0</td>\n",
       "      <td>0</td>\n",
       "      <td>0</td>\n",
       "      <td>0</td>\n",
       "      <td>0</td>\n",
       "      <td>0</td>\n",
       "    </tr>\n",
       "    <tr>\n",
       "      <th>1</th>\n",
       "      <td>0</td>\n",
       "      <td>0</td>\n",
       "      <td>0</td>\n",
       "      <td>0</td>\n",
       "      <td>0</td>\n",
       "      <td>0</td>\n",
       "      <td>0</td>\n",
       "      <td>0</td>\n",
       "      <td>0</td>\n",
       "      <td>0</td>\n",
       "      <td>...</td>\n",
       "      <td>0</td>\n",
       "      <td>0</td>\n",
       "      <td>0</td>\n",
       "      <td>0</td>\n",
       "      <td>0</td>\n",
       "      <td>0</td>\n",
       "      <td>0</td>\n",
       "      <td>0</td>\n",
       "      <td>0</td>\n",
       "      <td>0</td>\n",
       "    </tr>\n",
       "    <tr>\n",
       "      <th>2</th>\n",
       "      <td>0</td>\n",
       "      <td>0</td>\n",
       "      <td>0</td>\n",
       "      <td>0</td>\n",
       "      <td>0</td>\n",
       "      <td>0</td>\n",
       "      <td>0</td>\n",
       "      <td>0</td>\n",
       "      <td>0</td>\n",
       "      <td>0</td>\n",
       "      <td>...</td>\n",
       "      <td>0</td>\n",
       "      <td>0</td>\n",
       "      <td>0</td>\n",
       "      <td>0</td>\n",
       "      <td>0</td>\n",
       "      <td>0</td>\n",
       "      <td>0</td>\n",
       "      <td>0</td>\n",
       "      <td>0</td>\n",
       "      <td>0</td>\n",
       "    </tr>\n",
       "    <tr>\n",
       "      <th>3</th>\n",
       "      <td>1</td>\n",
       "      <td>0</td>\n",
       "      <td>0</td>\n",
       "      <td>0</td>\n",
       "      <td>0</td>\n",
       "      <td>0</td>\n",
       "      <td>0</td>\n",
       "      <td>0</td>\n",
       "      <td>0</td>\n",
       "      <td>0</td>\n",
       "      <td>...</td>\n",
       "      <td>0</td>\n",
       "      <td>0</td>\n",
       "      <td>0</td>\n",
       "      <td>0</td>\n",
       "      <td>0</td>\n",
       "      <td>0</td>\n",
       "      <td>0</td>\n",
       "      <td>0</td>\n",
       "      <td>0</td>\n",
       "      <td>0</td>\n",
       "    </tr>\n",
       "    <tr>\n",
       "      <th>4</th>\n",
       "      <td>0</td>\n",
       "      <td>0</td>\n",
       "      <td>0</td>\n",
       "      <td>0</td>\n",
       "      <td>0</td>\n",
       "      <td>0</td>\n",
       "      <td>0</td>\n",
       "      <td>0</td>\n",
       "      <td>0</td>\n",
       "      <td>0</td>\n",
       "      <td>...</td>\n",
       "      <td>0</td>\n",
       "      <td>0</td>\n",
       "      <td>0</td>\n",
       "      <td>0</td>\n",
       "      <td>0</td>\n",
       "      <td>0</td>\n",
       "      <td>0</td>\n",
       "      <td>0</td>\n",
       "      <td>0</td>\n",
       "      <td>0</td>\n",
       "    </tr>\n",
       "  </tbody>\n",
       "</table>\n",
       "<p>5 rows × 449 columns</p>\n",
       "</div>"
      ],
      "text/plain": [
       "   KODEX 200  KODEX 레버리지  TIGER 200  KODEX 200선물인버스2X  KODEX 단기채권  \\\n",
       "0          0           0          0                 0           0   \n",
       "1          0           0          0                 0           0   \n",
       "2          0           0          0                 0           0   \n",
       "3          1           0          0                 0           0   \n",
       "4          0           0          0                 0           0   \n",
       "\n",
       "   TIGER 단기통안채  KBSTAR 200  KODEX 종합채권(AA-이상)액티브  KODEX 코스닥150 레버리지  \\\n",
       "0            0           0                     0                  0   \n",
       "1            0           0                     0                  0   \n",
       "2            0           0                     0                  0   \n",
       "3            0           0                     0                  0   \n",
       "4            0           0                     0                  0   \n",
       "\n",
       "   KODEX 200TR  ...  TIGER 대만TAIEX선물(H)  TIGER 금속선물(H)  KBSTAR 200중공업  \\\n",
       "0            0  ...                   0              0              0   \n",
       "1            0  ...                   0              0              0   \n",
       "2            0  ...                   0              0              0   \n",
       "3            0  ...                   0              0              0   \n",
       "4            0  ...                   0              0              0   \n",
       "\n",
       "   ARIRANG ESG우수기업  ARIRANG KRX300IT  KBSTAR 200에너지화학  TIGER 코스닥150로우볼  \\\n",
       "0                0                 0                0                0   \n",
       "1                0                 0                0                0   \n",
       "2                0                 0                0                0   \n",
       "3                0                 0                0                0   \n",
       "4                0                 0                0                0   \n",
       "\n",
       "   ARIRANG KRX300금융  ARIRANG 스마트베타 Momentum  ARIRANG KRX300자유소비재  \n",
       "0                 0                       0                    0  \n",
       "1                 0                       0                    0  \n",
       "2                 0                       0                    0  \n",
       "3                 0                       0                    0  \n",
       "4                 0                       0                    0  \n",
       "\n",
       "[5 rows x 449 columns]"
      ]
     },
     "execution_count": 177,
     "metadata": {},
     "output_type": "execute_result"
    }
   ],
   "source": [
    "df_copy.head()"
   ]
  },
  {
   "cell_type": "markdown",
   "metadata": {},
   "source": [
    "- Apriori 라이브러리를 사용하기 위해 \"1\",\"0\"으로 인코딩된 트렌젝션 데이터 값을 1이면 \"True\", 0이면 \"False\" 값으로 변경"
   ]
  },
  {
   "cell_type": "code",
   "execution_count": 178,
   "metadata": {},
   "outputs": [],
   "source": [
    "df_copy_temp = df_copy == 1"
   ]
  },
  {
   "cell_type": "code",
   "execution_count": 179,
   "metadata": {},
   "outputs": [
    {
     "data": {
      "text/html": [
       "<div>\n",
       "<style scoped>\n",
       "    .dataframe tbody tr th:only-of-type {\n",
       "        vertical-align: middle;\n",
       "    }\n",
       "\n",
       "    .dataframe tbody tr th {\n",
       "        vertical-align: top;\n",
       "    }\n",
       "\n",
       "    .dataframe thead th {\n",
       "        text-align: right;\n",
       "    }\n",
       "</style>\n",
       "<table border=\"1\" class=\"dataframe\">\n",
       "  <thead>\n",
       "    <tr style=\"text-align: right;\">\n",
       "      <th></th>\n",
       "      <th>KODEX 200</th>\n",
       "      <th>KODEX 레버리지</th>\n",
       "      <th>TIGER 200</th>\n",
       "      <th>KODEX 200선물인버스2X</th>\n",
       "      <th>KODEX 단기채권</th>\n",
       "      <th>TIGER 단기통안채</th>\n",
       "      <th>KBSTAR 200</th>\n",
       "      <th>KODEX 종합채권(AA-이상)액티브</th>\n",
       "      <th>KODEX 코스닥150 레버리지</th>\n",
       "      <th>KODEX 200TR</th>\n",
       "      <th>...</th>\n",
       "      <th>TIGER 대만TAIEX선물(H)</th>\n",
       "      <th>TIGER 금속선물(H)</th>\n",
       "      <th>KBSTAR 200중공업</th>\n",
       "      <th>ARIRANG ESG우수기업</th>\n",
       "      <th>ARIRANG KRX300IT</th>\n",
       "      <th>KBSTAR 200에너지화학</th>\n",
       "      <th>TIGER 코스닥150로우볼</th>\n",
       "      <th>ARIRANG KRX300금융</th>\n",
       "      <th>ARIRANG 스마트베타 Momentum</th>\n",
       "      <th>ARIRANG KRX300자유소비재</th>\n",
       "    </tr>\n",
       "  </thead>\n",
       "  <tbody>\n",
       "    <tr>\n",
       "      <th>0</th>\n",
       "      <td>False</td>\n",
       "      <td>False</td>\n",
       "      <td>False</td>\n",
       "      <td>False</td>\n",
       "      <td>False</td>\n",
       "      <td>False</td>\n",
       "      <td>False</td>\n",
       "      <td>False</td>\n",
       "      <td>False</td>\n",
       "      <td>False</td>\n",
       "      <td>...</td>\n",
       "      <td>False</td>\n",
       "      <td>False</td>\n",
       "      <td>False</td>\n",
       "      <td>False</td>\n",
       "      <td>False</td>\n",
       "      <td>False</td>\n",
       "      <td>False</td>\n",
       "      <td>False</td>\n",
       "      <td>False</td>\n",
       "      <td>False</td>\n",
       "    </tr>\n",
       "    <tr>\n",
       "      <th>1</th>\n",
       "      <td>False</td>\n",
       "      <td>False</td>\n",
       "      <td>False</td>\n",
       "      <td>False</td>\n",
       "      <td>False</td>\n",
       "      <td>False</td>\n",
       "      <td>False</td>\n",
       "      <td>False</td>\n",
       "      <td>False</td>\n",
       "      <td>False</td>\n",
       "      <td>...</td>\n",
       "      <td>False</td>\n",
       "      <td>False</td>\n",
       "      <td>False</td>\n",
       "      <td>False</td>\n",
       "      <td>False</td>\n",
       "      <td>False</td>\n",
       "      <td>False</td>\n",
       "      <td>False</td>\n",
       "      <td>False</td>\n",
       "      <td>False</td>\n",
       "    </tr>\n",
       "    <tr>\n",
       "      <th>2</th>\n",
       "      <td>False</td>\n",
       "      <td>False</td>\n",
       "      <td>False</td>\n",
       "      <td>False</td>\n",
       "      <td>False</td>\n",
       "      <td>False</td>\n",
       "      <td>False</td>\n",
       "      <td>False</td>\n",
       "      <td>False</td>\n",
       "      <td>False</td>\n",
       "      <td>...</td>\n",
       "      <td>False</td>\n",
       "      <td>False</td>\n",
       "      <td>False</td>\n",
       "      <td>False</td>\n",
       "      <td>False</td>\n",
       "      <td>False</td>\n",
       "      <td>False</td>\n",
       "      <td>False</td>\n",
       "      <td>False</td>\n",
       "      <td>False</td>\n",
       "    </tr>\n",
       "    <tr>\n",
       "      <th>3</th>\n",
       "      <td>True</td>\n",
       "      <td>False</td>\n",
       "      <td>False</td>\n",
       "      <td>False</td>\n",
       "      <td>False</td>\n",
       "      <td>False</td>\n",
       "      <td>False</td>\n",
       "      <td>False</td>\n",
       "      <td>False</td>\n",
       "      <td>False</td>\n",
       "      <td>...</td>\n",
       "      <td>False</td>\n",
       "      <td>False</td>\n",
       "      <td>False</td>\n",
       "      <td>False</td>\n",
       "      <td>False</td>\n",
       "      <td>False</td>\n",
       "      <td>False</td>\n",
       "      <td>False</td>\n",
       "      <td>False</td>\n",
       "      <td>False</td>\n",
       "    </tr>\n",
       "    <tr>\n",
       "      <th>4</th>\n",
       "      <td>False</td>\n",
       "      <td>False</td>\n",
       "      <td>False</td>\n",
       "      <td>False</td>\n",
       "      <td>False</td>\n",
       "      <td>False</td>\n",
       "      <td>False</td>\n",
       "      <td>False</td>\n",
       "      <td>False</td>\n",
       "      <td>False</td>\n",
       "      <td>...</td>\n",
       "      <td>False</td>\n",
       "      <td>False</td>\n",
       "      <td>False</td>\n",
       "      <td>False</td>\n",
       "      <td>False</td>\n",
       "      <td>False</td>\n",
       "      <td>False</td>\n",
       "      <td>False</td>\n",
       "      <td>False</td>\n",
       "      <td>False</td>\n",
       "    </tr>\n",
       "  </tbody>\n",
       "</table>\n",
       "<p>5 rows × 449 columns</p>\n",
       "</div>"
      ],
      "text/plain": [
       "   KODEX 200  KODEX 레버리지  TIGER 200  KODEX 200선물인버스2X  KODEX 단기채권  \\\n",
       "0      False       False      False             False       False   \n",
       "1      False       False      False             False       False   \n",
       "2      False       False      False             False       False   \n",
       "3       True       False      False             False       False   \n",
       "4      False       False      False             False       False   \n",
       "\n",
       "   TIGER 단기통안채  KBSTAR 200  KODEX 종합채권(AA-이상)액티브  KODEX 코스닥150 레버리지  \\\n",
       "0        False       False                 False              False   \n",
       "1        False       False                 False              False   \n",
       "2        False       False                 False              False   \n",
       "3        False       False                 False              False   \n",
       "4        False       False                 False              False   \n",
       "\n",
       "   KODEX 200TR  ...  TIGER 대만TAIEX선물(H)  TIGER 금속선물(H)  KBSTAR 200중공업  \\\n",
       "0        False  ...               False          False          False   \n",
       "1        False  ...               False          False          False   \n",
       "2        False  ...               False          False          False   \n",
       "3        False  ...               False          False          False   \n",
       "4        False  ...               False          False          False   \n",
       "\n",
       "   ARIRANG ESG우수기업  ARIRANG KRX300IT  KBSTAR 200에너지화학  TIGER 코스닥150로우볼  \\\n",
       "0            False             False            False            False   \n",
       "1            False             False            False            False   \n",
       "2            False             False            False            False   \n",
       "3            False             False            False            False   \n",
       "4            False             False            False            False   \n",
       "\n",
       "   ARIRANG KRX300금융  ARIRANG 스마트베타 Momentum  ARIRANG KRX300자유소비재  \n",
       "0             False                   False                False  \n",
       "1             False                   False                False  \n",
       "2             False                   False                False  \n",
       "3             False                   False                False  \n",
       "4             False                   False                False  \n",
       "\n",
       "[5 rows x 449 columns]"
      ]
     },
     "execution_count": 179,
     "metadata": {},
     "output_type": "execute_result"
    }
   ],
   "source": [
    "df_copy_temp.head()"
   ]
  },
  {
   "cell_type": "code",
   "execution_count": 180,
   "metadata": {},
   "outputs": [
    {
     "data": {
      "text/plain": [
       "(2547, 449)"
      ]
     },
     "execution_count": 180,
     "metadata": {},
     "output_type": "execute_result"
    }
   ],
   "source": [
    "df_copy_temp.shape"
   ]
  },
  {
   "cell_type": "markdown",
   "metadata": {},
   "source": [
    "- apriori 라이브러리를 사용하여 지지도(support) 0.1 이상의 ETF 거래데이터를 추출"
   ]
  },
  {
   "cell_type": "code",
   "execution_count": 181,
   "metadata": {},
   "outputs": [],
   "source": [
    "itemset = apriori(df_copy_temp, min_support=0.1, use_colnames=True)"
   ]
  },
  {
   "cell_type": "code",
   "execution_count": 182,
   "metadata": {},
   "outputs": [
    {
     "data": {
      "text/html": [
       "<div>\n",
       "<style scoped>\n",
       "    .dataframe tbody tr th:only-of-type {\n",
       "        vertical-align: middle;\n",
       "    }\n",
       "\n",
       "    .dataframe tbody tr th {\n",
       "        vertical-align: top;\n",
       "    }\n",
       "\n",
       "    .dataframe thead th {\n",
       "        text-align: right;\n",
       "    }\n",
       "</style>\n",
       "<table border=\"1\" class=\"dataframe\">\n",
       "  <thead>\n",
       "    <tr style=\"text-align: right;\">\n",
       "      <th></th>\n",
       "      <th>support</th>\n",
       "      <th>itemsets</th>\n",
       "    </tr>\n",
       "  </thead>\n",
       "  <tbody>\n",
       "    <tr>\n",
       "      <th>1</th>\n",
       "      <td>0.454653</td>\n",
       "      <td>(KODEX 레버리지)</td>\n",
       "    </tr>\n",
       "    <tr>\n",
       "      <th>4</th>\n",
       "      <td>0.435807</td>\n",
       "      <td>(KODEX 인버스)</td>\n",
       "    </tr>\n",
       "    <tr>\n",
       "      <th>0</th>\n",
       "      <td>0.343934</td>\n",
       "      <td>(KODEX 200)</td>\n",
       "    </tr>\n",
       "    <tr>\n",
       "      <th>7</th>\n",
       "      <td>0.282293</td>\n",
       "      <td>(KODEX 200, KODEX 레버리지)</td>\n",
       "    </tr>\n",
       "    <tr>\n",
       "      <th>2</th>\n",
       "      <td>0.172360</td>\n",
       "      <td>(KODEX 200선물인버스2X)</td>\n",
       "    </tr>\n",
       "    <tr>\n",
       "      <th>3</th>\n",
       "      <td>0.170004</td>\n",
       "      <td>(KODEX 코스닥150 레버리지)</td>\n",
       "    </tr>\n",
       "    <tr>\n",
       "      <th>9</th>\n",
       "      <td>0.112682</td>\n",
       "      <td>(KODEX 인버스, KODEX 200선물인버스2X)</td>\n",
       "    </tr>\n",
       "    <tr>\n",
       "      <th>5</th>\n",
       "      <td>0.110718</td>\n",
       "      <td>(KODEX 코스닥150선물인버스)</td>\n",
       "    </tr>\n",
       "    <tr>\n",
       "      <th>6</th>\n",
       "      <td>0.107185</td>\n",
       "      <td>(TIGER 레버리지)</td>\n",
       "    </tr>\n",
       "    <tr>\n",
       "      <th>8</th>\n",
       "      <td>0.106007</td>\n",
       "      <td>(KODEX 레버리지, TIGER 레버리지)</td>\n",
       "    </tr>\n",
       "  </tbody>\n",
       "</table>\n",
       "</div>"
      ],
      "text/plain": [
       "    support                       itemsets\n",
       "1  0.454653                   (KODEX 레버리지)\n",
       "4  0.435807                    (KODEX 인버스)\n",
       "0  0.343934                    (KODEX 200)\n",
       "7  0.282293        (KODEX 200, KODEX 레버리지)\n",
       "2  0.172360             (KODEX 200선물인버스2X)\n",
       "3  0.170004            (KODEX 코스닥150 레버리지)\n",
       "9  0.112682  (KODEX 인버스, KODEX 200선물인버스2X)\n",
       "5  0.110718            (KODEX 코스닥150선물인버스)\n",
       "6  0.107185                   (TIGER 레버리지)\n",
       "8  0.106007       (KODEX 레버리지, TIGER 레버리지)"
      ]
     },
     "execution_count": 182,
     "metadata": {},
     "output_type": "execute_result"
    }
   ],
   "source": [
    "itemset.sort_values([\"support\"], ascending=False).head(10)"
   ]
  },
  {
   "cell_type": "markdown",
   "metadata": {},
   "source": [
    "- 신뢰도(confidence)가 0.1 이상인 ETF 연관거래 데이터의 지지도, 향상도를 산출"
   ]
  },
  {
   "cell_type": "code",
   "execution_count": 183,
   "metadata": {},
   "outputs": [],
   "source": [
    "rules_ca = association_rules(itemset, metric=\"confidence\", min_threshold=0.1)"
   ]
  },
  {
   "cell_type": "code",
   "execution_count": 184,
   "metadata": {},
   "outputs": [],
   "source": [
    "rules_ca = rules_ca[['antecedents', 'consequents','support', 'confidence', 'lift']]"
   ]
  },
  {
   "cell_type": "markdown",
   "metadata": {},
   "source": [
    "- 향상도(lift) 기준으로 내림차순 정렬\n",
    "- 향상도가 가장 높은 거래는 KODEX레버리지 -> TIGER레버리지\n",
    "- 신뢰도가 가장 높은 거래는 TIGER레버리지 -> KODEX레버리지\n",
    "- 지지도, 향상도, 신뢰도가 고루 높은 거래는 KODEX 200 -> KODEX레버리지"
   ]
  },
  {
   "cell_type": "code",
   "execution_count": 185,
   "metadata": {},
   "outputs": [],
   "source": [
    "rules_ca = rules_ca.sort_values('lift', ascending=False)"
   ]
  },
  {
   "cell_type": "code",
   "execution_count": 186,
   "metadata": {},
   "outputs": [
    {
     "data": {
      "text/html": [
       "<div>\n",
       "<style scoped>\n",
       "    .dataframe tbody tr th:only-of-type {\n",
       "        vertical-align: middle;\n",
       "    }\n",
       "\n",
       "    .dataframe tbody tr th {\n",
       "        vertical-align: top;\n",
       "    }\n",
       "\n",
       "    .dataframe thead th {\n",
       "        text-align: right;\n",
       "    }\n",
       "</style>\n",
       "<table border=\"1\" class=\"dataframe\">\n",
       "  <thead>\n",
       "    <tr style=\"text-align: right;\">\n",
       "      <th></th>\n",
       "      <th>antecedents</th>\n",
       "      <th>consequents</th>\n",
       "      <th>support</th>\n",
       "      <th>confidence</th>\n",
       "      <th>lift</th>\n",
       "    </tr>\n",
       "  </thead>\n",
       "  <tbody>\n",
       "    <tr>\n",
       "      <th>2</th>\n",
       "      <td>(KODEX 레버리지)</td>\n",
       "      <td>(TIGER 레버리지)</td>\n",
       "      <td>0.106007</td>\n",
       "      <td>0.233161</td>\n",
       "      <td>2.175312</td>\n",
       "    </tr>\n",
       "    <tr>\n",
       "      <th>3</th>\n",
       "      <td>(TIGER 레버리지)</td>\n",
       "      <td>(KODEX 레버리지)</td>\n",
       "      <td>0.106007</td>\n",
       "      <td>0.989011</td>\n",
       "      <td>2.175312</td>\n",
       "    </tr>\n",
       "    <tr>\n",
       "      <th>1</th>\n",
       "      <td>(KODEX 레버리지)</td>\n",
       "      <td>(KODEX 200)</td>\n",
       "      <td>0.282293</td>\n",
       "      <td>0.620898</td>\n",
       "      <td>1.805282</td>\n",
       "    </tr>\n",
       "    <tr>\n",
       "      <th>0</th>\n",
       "      <td>(KODEX 200)</td>\n",
       "      <td>(KODEX 레버리지)</td>\n",
       "      <td>0.282293</td>\n",
       "      <td>0.820776</td>\n",
       "      <td>1.805282</td>\n",
       "    </tr>\n",
       "    <tr>\n",
       "      <th>4</th>\n",
       "      <td>(KODEX 인버스)</td>\n",
       "      <td>(KODEX 200선물인버스2X)</td>\n",
       "      <td>0.112682</td>\n",
       "      <td>0.258559</td>\n",
       "      <td>1.500111</td>\n",
       "    </tr>\n",
       "    <tr>\n",
       "      <th>5</th>\n",
       "      <td>(KODEX 200선물인버스2X)</td>\n",
       "      <td>(KODEX 인버스)</td>\n",
       "      <td>0.112682</td>\n",
       "      <td>0.653759</td>\n",
       "      <td>1.500111</td>\n",
       "    </tr>\n",
       "  </tbody>\n",
       "</table>\n",
       "</div>"
      ],
      "text/plain": [
       "          antecedents         consequents   support  confidence      lift\n",
       "2        (KODEX 레버리지)        (TIGER 레버리지)  0.106007    0.233161  2.175312\n",
       "3        (TIGER 레버리지)        (KODEX 레버리지)  0.106007    0.989011  2.175312\n",
       "1        (KODEX 레버리지)         (KODEX 200)  0.282293    0.620898  1.805282\n",
       "0         (KODEX 200)        (KODEX 레버리지)  0.282293    0.820776  1.805282\n",
       "4         (KODEX 인버스)  (KODEX 200선물인버스2X)  0.112682    0.258559  1.500111\n",
       "5  (KODEX 200선물인버스2X)         (KODEX 인버스)  0.112682    0.653759  1.500111"
      ]
     },
     "execution_count": 186,
     "metadata": {},
     "output_type": "execute_result"
    }
   ],
   "source": [
    "rules_ca.head(10)"
   ]
  },
  {
   "cell_type": "code",
   "execution_count": 187,
   "metadata": {},
   "outputs": [],
   "source": [
    "rules_ca.reset_index(inplace=True)"
   ]
  },
  {
   "cell_type": "code",
   "execution_count": 188,
   "metadata": {
    "scrolled": false
   },
   "outputs": [
    {
     "data": {
      "text/html": [
       "<div>\n",
       "<style scoped>\n",
       "    .dataframe tbody tr th:only-of-type {\n",
       "        vertical-align: middle;\n",
       "    }\n",
       "\n",
       "    .dataframe tbody tr th {\n",
       "        vertical-align: top;\n",
       "    }\n",
       "\n",
       "    .dataframe thead th {\n",
       "        text-align: right;\n",
       "    }\n",
       "</style>\n",
       "<table border=\"1\" class=\"dataframe\">\n",
       "  <thead>\n",
       "    <tr style=\"text-align: right;\">\n",
       "      <th></th>\n",
       "      <th>index</th>\n",
       "      <th>antecedents</th>\n",
       "      <th>consequents</th>\n",
       "      <th>support</th>\n",
       "      <th>confidence</th>\n",
       "      <th>lift</th>\n",
       "    </tr>\n",
       "  </thead>\n",
       "  <tbody>\n",
       "    <tr>\n",
       "      <th>0</th>\n",
       "      <td>2</td>\n",
       "      <td>(KODEX 레버리지)</td>\n",
       "      <td>(TIGER 레버리지)</td>\n",
       "      <td>0.106007</td>\n",
       "      <td>0.233161</td>\n",
       "      <td>2.175312</td>\n",
       "    </tr>\n",
       "    <tr>\n",
       "      <th>1</th>\n",
       "      <td>3</td>\n",
       "      <td>(TIGER 레버리지)</td>\n",
       "      <td>(KODEX 레버리지)</td>\n",
       "      <td>0.106007</td>\n",
       "      <td>0.989011</td>\n",
       "      <td>2.175312</td>\n",
       "    </tr>\n",
       "    <tr>\n",
       "      <th>2</th>\n",
       "      <td>1</td>\n",
       "      <td>(KODEX 레버리지)</td>\n",
       "      <td>(KODEX 200)</td>\n",
       "      <td>0.282293</td>\n",
       "      <td>0.620898</td>\n",
       "      <td>1.805282</td>\n",
       "    </tr>\n",
       "    <tr>\n",
       "      <th>3</th>\n",
       "      <td>0</td>\n",
       "      <td>(KODEX 200)</td>\n",
       "      <td>(KODEX 레버리지)</td>\n",
       "      <td>0.282293</td>\n",
       "      <td>0.820776</td>\n",
       "      <td>1.805282</td>\n",
       "    </tr>\n",
       "    <tr>\n",
       "      <th>4</th>\n",
       "      <td>4</td>\n",
       "      <td>(KODEX 인버스)</td>\n",
       "      <td>(KODEX 200선물인버스2X)</td>\n",
       "      <td>0.112682</td>\n",
       "      <td>0.258559</td>\n",
       "      <td>1.500111</td>\n",
       "    </tr>\n",
       "  </tbody>\n",
       "</table>\n",
       "</div>"
      ],
      "text/plain": [
       "   index   antecedents         consequents   support  confidence      lift\n",
       "0      2  (KODEX 레버리지)        (TIGER 레버리지)  0.106007    0.233161  2.175312\n",
       "1      3  (TIGER 레버리지)        (KODEX 레버리지)  0.106007    0.989011  2.175312\n",
       "2      1  (KODEX 레버리지)         (KODEX 200)  0.282293    0.620898  1.805282\n",
       "3      0   (KODEX 200)        (KODEX 레버리지)  0.282293    0.820776  1.805282\n",
       "4      4   (KODEX 인버스)  (KODEX 200선물인버스2X)  0.112682    0.258559  1.500111"
      ]
     },
     "execution_count": 188,
     "metadata": {},
     "output_type": "execute_result"
    }
   ],
   "source": [
    "rules_ca.head()"
   ]
  },
  {
   "cell_type": "code",
   "execution_count": 189,
   "metadata": {},
   "outputs": [
    {
     "name": "stderr",
     "output_type": "stream",
     "text": [
      "C:\\Anaconda3\\lib\\site-packages\\ipykernel_launcher.py:1: FutureWarning:\n",
      "\n",
      "Method .as_matrix will be removed in a future version. Use .values instead.\n",
      "\n",
      "C:\\Anaconda3\\lib\\site-packages\\ipykernel_launcher.py:2: FutureWarning:\n",
      "\n",
      "Method .as_matrix will be removed in a future version. Use .values instead.\n",
      "\n",
      "C:\\Anaconda3\\lib\\site-packages\\ipykernel_launcher.py:3: FutureWarning:\n",
      "\n",
      "Method .as_matrix will be removed in a future version. Use .values instead.\n",
      "\n"
     ]
    }
   ],
   "source": [
    "ca_support=rules_ca.as_matrix(columns=['support'])\n",
    "ca_confidence=rules_ca.as_matrix(columns=['confidence'])\n",
    "ca_lift=rules_ca.as_matrix(columns=['lift'])"
   ]
  },
  {
   "cell_type": "code",
   "execution_count": 190,
   "metadata": {
    "scrolled": false
   },
   "outputs": [
    {
     "data": {
      "image/png": "[encoded data removed]",
      "text/plain": [
       "<Figure size 1080x216 with 3 Axes>"
      ]
     },
     "metadata": {},
     "output_type": "display_data"
    }
   ],
   "source": [
    "plt.figure(figsize=(15,3))\n",
    "\n",
    "for i in range (len(ca_support)):\n",
    "    ca_support[i] = ca_support[i] \n",
    "    ca_confidence[i] = ca_confidence[i]\n",
    "\n",
    "plt.subplot(161) \n",
    "plt.title(\"support & confidence\")\n",
    "plt.scatter(ca_support, ca_confidence,   alpha=0.5, marker=\"*\")\n",
    "plt.xlabel('support')\n",
    "plt.ylabel('confidence') \n",
    "#plt.show()\n",
    "\n",
    "\n",
    "for i in range (len(ca_support)):\n",
    "    ca_lift[i] = ca_lift[i]\n",
    "    ca_confidence[i] = ca_confidence[i]\n",
    "    \n",
    "plt.subplot(163)\n",
    "plt.title(\"lift & confidence\")\n",
    "plt.scatter(ca_lift, ca_confidence,  alpha=0.5, marker=\"*\")\n",
    "plt.xlabel('lift')\n",
    "plt.ylabel('confidence') \n",
    "#plt.show()\n",
    "\n",
    "\n",
    "for i in range (len(ca_support)):\n",
    "    ca_support[i] = ca_support[i]\n",
    "    ca_confidence[i] = ca_confidence[i]\n",
    "\n",
    "plt.subplot(165)\n",
    "plt.title(\"support & lift\")\n",
    "plt.scatter(ca_support, ca_lift,   alpha=0.5, marker=\"*\")\n",
    "plt.xlabel('support')\n",
    "plt.ylabel('lift') \n",
    "\n",
    "plt.show()\n"
   ]
  },
  {
   "cell_type": "code",
   "execution_count": 191,
   "metadata": {},
   "outputs": [
    {
     "data": {
      "application/vnd.plotly.v1+json": {
       "config": {
        "plotlyServerURL": "https://plot.ly"
       },
       "data": [
        {
         "hoverlabel": {
          "namelength": 0
         },
         "hovertemplate": "support=%{x}<br>confidence=%{y}<br>lift=%{z}",
         "legendgroup": "",
         "marker": {
          "color": "#636efa",
          "symbol": "circle"
         },
         "mode": "markers",
         "name": "",
         "scene": "scene",
         "showlegend": false,
         "type": "scatter3d",
         "x": [
          0.10600706713780919,
          0.10600706713780919,
          0.2822928936003141,
          0.2822928936003141,
          0.1126815861798194,
          0.1126815861798194
         ],
         "y": [
          0.23316062176165803,
          0.989010989010989,
          0.6208981001727116,
          0.8207762557077626,
          0.2585585585585586,
          0.65375854214123
         ],
         "z": [
          2.1753117348972273,
          2.1753117348972273,
          1.8052824898857267,
          1.8052824898857265,
          1.500110816967309,
          1.5001108169673087
         ]
        }
       ],
       "layout": {
        "height": 600,
        "legend": {
         "tracegroupgap": 0
        },
        "margin": {
         "t": 60
        },
        "scene": {
         "domain": {
          "x": [
           0,
           0.98
          ],
          "y": [
           0,
           1
          ]
         },
         "xaxis": {
          "title": {
           "text": "support"
          }
         },
         "yaxis": {
          "title": {
           "text": "confidence"
          }
         },
         "zaxis": {
          "title": {
           "text": "lift"
          }
         }
        },
        "template": {
         "data": {
          "bar": [
           {
            "error_x": {
             "color": "#2a3f5f"
            },
            "error_y": {
             "color": "#2a3f5f"
            },
            "marker": {
             "line": {
              "color": "#E5ECF6",
              "width": 0.5
             }
            },
            "type": "bar"
           }
          ],
          "barpolar": [
           {
            "marker": {
             "line": {
              "color": "#E5ECF6",
              "width": 0.5
             }
            },
            "type": "barpolar"
           }
          ],
          "carpet": [
           {
            "aaxis": {
             "endlinecolor": "#2a3f5f",
             "gridcolor": "white",
             "linecolor": "white",
             "minorgridcolor": "white",
             "startlinecolor": "#2a3f5f"
            },
            "baxis": {
             "endlinecolor": "#2a3f5f",
             "gridcolor": "white",
             "linecolor": "white",
             "minorgridcolor": "white",
             "startlinecolor": "#2a3f5f"
            },
            "type": "carpet"
           }
          ],
          "choropleth": [
           {
            "colorbar": {
             "outlinewidth": 0,
             "ticks": ""
            },
            "type": "choropleth"
           }
          ],
          "contour": [
           {
            "colorbar": {
             "outlinewidth": 0,
             "ticks": ""
            },
            "colorscale": [
             [
              0,
              "#0d0887"
             ],
             [
              0.1111111111111111,
              "#46039f"
             ],
             [
              0.2222222222222222,
              "#7201a8"
             ],
             [
              0.3333333333333333,
              "#9c179e"
             ],
             [
              0.4444444444444444,
              "#bd3786"
             ],
             [
              0.5555555555555556,
              "#d8576b"
             ],
             [
              0.6666666666666666,
              "#ed7953"
             ],
             [
              0.7777777777777778,
              "#fb9f3a"
             ],
             [
              0.8888888888888888,
              "#fdca26"
             ],
             [
              1,
              "#f0f921"
             ]
            ],
            "type": "contour"
           }
          ],
          "contourcarpet": [
           {
            "colorbar": {
             "outlinewidth": 0,
             "ticks": ""
            },
            "type": "contourcarpet"
           }
          ],
          "heatmap": [
           {
            "colorbar": {
             "outlinewidth": 0,
             "ticks": ""
            },
            "colorscale": [
             [
              0,
              "#0d0887"
             ],
             [
              0.1111111111111111,
              "#46039f"
             ],
             [
              0.2222222222222222,
              "#7201a8"
             ],
             [
              0.3333333333333333,
              "#9c179e"
             ],
             [
              0.4444444444444444,
              "#bd3786"
             ],
             [
              0.5555555555555556,
              "#d8576b"
             ],
             [
              0.6666666666666666,
              "#ed7953"
             ],
             [
              0.7777777777777778,
              "#fb9f3a"
             ],
             [
              0.8888888888888888,
              "#fdca26"
             ],
             [
              1,
              "#f0f921"
             ]
            ],
            "type": "heatmap"
           }
          ],
          "heatmapgl": [
           {
            "colorbar": {
             "outlinewidth": 0,
             "ticks": ""
            },
            "colorscale": [
             [
              0,
              "#0d0887"
             ],
             [
              0.1111111111111111,
              "#46039f"
             ],
             [
              0.2222222222222222,
              "#7201a8"
             ],
             [
              0.3333333333333333,
              "#9c179e"
             ],
             [
              0.4444444444444444,
              "#bd3786"
             ],
             [
              0.5555555555555556,
              "#d8576b"
             ],
             [
              0.6666666666666666,
              "#ed7953"
             ],
             [
              0.7777777777777778,
              "#fb9f3a"
             ],
             [
              0.8888888888888888,
              "#fdca26"
             ],
             [
              1,
              "#f0f921"
             ]
            ],
            "type": "heatmapgl"
           }
          ],
          "histogram": [
           {
            "marker": {
             "colorbar": {
              "outlinewidth": 0,
              "ticks": ""
             }
            },
            "type": "histogram"
           }
          ],
          "histogram2d": [
           {
            "colorbar": {
             "outlinewidth": 0,
             "ticks": ""
            },
            "colorscale": [
             [
              0,
              "#0d0887"
             ],
             [
              0.1111111111111111,
              "#46039f"
             ],
             [
              0.2222222222222222,
              "#7201a8"
             ],
             [
              0.3333333333333333,
              "#9c179e"
             ],
             [
              0.4444444444444444,
              "#bd3786"
             ],
             [
              0.5555555555555556,
              "#d8576b"
             ],
             [
              0.6666666666666666,
              "#ed7953"
             ],
             [
              0.7777777777777778,
              "#fb9f3a"
             ],
             [
              0.8888888888888888,
              "#fdca26"
             ],
             [
              1,
              "#f0f921"
             ]
            ],
            "type": "histogram2d"
           }
          ],
          "histogram2dcontour": [
           {
            "colorbar": {
             "outlinewidth": 0,
             "ticks": ""
            },
            "colorscale": [
             [
              0,
              "#0d0887"
             ],
             [
              0.1111111111111111,
              "#46039f"
             ],
             [
              0.2222222222222222,
              "#7201a8"
             ],
             [
              0.3333333333333333,
              "#9c179e"
             ],
             [
              0.4444444444444444,
              "#bd3786"
             ],
             [
              0.5555555555555556,
              "#d8576b"
             ],
             [
              0.6666666666666666,
              "#ed7953"
             ],
             [
              0.7777777777777778,
              "#fb9f3a"
             ],
             [
              0.8888888888888888,
              "#fdca26"
             ],
             [
              1,
              "#f0f921"
             ]
            ],
            "type": "histogram2dcontour"
           }
          ],
          "mesh3d": [
           {
            "colorbar": {
             "outlinewidth": 0,
             "ticks": ""
            },
            "type": "mesh3d"
           }
          ],
          "parcoords": [
           {
            "line": {
             "colorbar": {
              "outlinewidth": 0,
              "ticks": ""
             }
            },
            "type": "parcoords"
           }
          ],
          "scatter": [
           {
            "marker": {
             "colorbar": {
              "outlinewidth": 0,
              "ticks": ""
             }
            },
            "type": "scatter"
           }
          ],
          "scatter3d": [
           {
            "line": {
             "colorbar": {
              "outlinewidth": 0,
              "ticks": ""
             }
            },
            "marker": {
             "colorbar": {
              "outlinewidth": 0,
              "ticks": ""
             }
            },
            "type": "scatter3d"
           }
          ],
          "scattercarpet": [
           {
            "marker": {
             "colorbar": {
              "outlinewidth": 0,
              "ticks": ""
             }
            },
            "type": "scattercarpet"
           }
          ],
          "scattergeo": [
           {
            "marker": {
             "colorbar": {
              "outlinewidth": 0,
              "ticks": ""
             }
            },
            "type": "scattergeo"
           }
          ],
          "scattergl": [
           {
            "marker": {
             "colorbar": {
              "outlinewidth": 0,
              "ticks": ""
             }
            },
            "type": "scattergl"
           }
          ],
          "scattermapbox": [
           {
            "marker": {
             "colorbar": {
              "outlinewidth": 0,
              "ticks": ""
             }
            },
            "type": "scattermapbox"
           }
          ],
          "scatterpolar": [
           {
            "marker": {
             "colorbar": {
              "outlinewidth": 0,
              "ticks": ""
             }
            },
            "type": "scatterpolar"
           }
          ],
          "scatterpolargl": [
           {
            "marker": {
             "colorbar": {
              "outlinewidth": 0,
              "ticks": ""
             }
            },
            "type": "scatterpolargl"
           }
          ],
          "scatterternary": [
           {
            "marker": {
             "colorbar": {
              "outlinewidth": 0,
              "ticks": ""
             }
            },
            "type": "scatterternary"
           }
          ],
          "surface": [
           {
            "colorbar": {
             "outlinewidth": 0,
             "ticks": ""
            },
            "colorscale": [
             [
              0,
              "#0d0887"
             ],
             [
              0.1111111111111111,
              "#46039f"
             ],
             [
              0.2222222222222222,
              "#7201a8"
             ],
             [
              0.3333333333333333,
              "#9c179e"
             ],
             [
              0.4444444444444444,
              "#bd3786"
             ],
             [
              0.5555555555555556,
              "#d8576b"
             ],
             [
              0.6666666666666666,
              "#ed7953"
             ],
             [
              0.7777777777777778,
              "#fb9f3a"
             ],
             [
              0.8888888888888888,
              "#fdca26"
             ],
             [
              1,
              "#f0f921"
             ]
            ],
            "type": "surface"
           }
          ],
          "table": [
           {
            "cells": {
             "fill": {
              "color": "#EBF0F8"
             },
             "line": {
              "color": "white"
             }
            },
            "header": {
             "fill": {
              "color": "#C8D4E3"
             },
             "line": {
              "color": "white"
             }
            },
            "type": "table"
           }
          ]
         },
         "layout": {
          "annotationdefaults": {
           "arrowcolor": "#2a3f5f",
           "arrowhead": 0,
           "arrowwidth": 1
          },
          "colorscale": {
           "diverging": [
            [
             0,
             "#8e0152"
            ],
            [
             0.1,
             "#c51b7d"
            ],
            [
             0.2,
             "#de77ae"
            ],
            [
             0.3,
             "#f1b6da"
            ],
            [
             0.4,
             "#fde0ef"
            ],
            [
             0.5,
             "#f7f7f7"
            ],
            [
             0.6,
             "#e6f5d0"
            ],
            [
             0.7,
             "#b8e186"
            ],
            [
             0.8,
             "#7fbc41"
            ],
            [
             0.9,
             "#4d9221"
            ],
            [
             1,
             "#276419"
            ]
           ],
           "sequential": [
            [
             0,
             "#0d0887"
            ],
            [
             0.1111111111111111,
             "#46039f"
            ],
            [
             0.2222222222222222,
             "#7201a8"
            ],
            [
             0.3333333333333333,
             "#9c179e"
            ],
            [
             0.4444444444444444,
             "#bd3786"
            ],
            [
             0.5555555555555556,
             "#d8576b"
            ],
            [
             0.6666666666666666,
             "#ed7953"
            ],
            [
             0.7777777777777778,
             "#fb9f3a"
            ],
            [
             0.8888888888888888,
             "#fdca26"
            ],
            [
             1,
             "#f0f921"
            ]
           ],
           "sequentialminus": [
            [
             0,
             "#0d0887"
            ],
            [
             0.1111111111111111,
             "#46039f"
            ],
            [
             0.2222222222222222,
             "#7201a8"
            ],
            [
             0.3333333333333333,
             "#9c179e"
            ],
            [
             0.4444444444444444,
             "#bd3786"
            ],
            [
             0.5555555555555556,
             "#d8576b"
            ],
            [
             0.6666666666666666,
             "#ed7953"
            ],
            [
             0.7777777777777778,
             "#fb9f3a"
            ],
            [
             0.8888888888888888,
             "#fdca26"
            ],
            [
             1,
             "#f0f921"
            ]
           ]
          },
          "colorway": [
           "#636efa",
           "#EF553B",
           "#00cc96",
           "#ab63fa",
           "#FFA15A",
           "#19d3f3",
           "#FF6692",
           "#B6E880",
           "#FF97FF",
           "#FECB52"
          ],
          "font": {
           "color": "#2a3f5f"
          },
          "geo": {
           "bgcolor": "white",
           "lakecolor": "white",
           "landcolor": "#E5ECF6",
           "showlakes": true,
           "showland": true,
           "subunitcolor": "white"
          },
          "hoverlabel": {
           "align": "left"
          },
          "hovermode": "closest",
          "mapbox": {
           "style": "light"
          },
          "paper_bgcolor": "white",
          "plot_bgcolor": "#E5ECF6",
          "polar": {
           "angularaxis": {
            "gridcolor": "white",
            "linecolor": "white",
            "ticks": ""
           },
           "bgcolor": "#E5ECF6",
           "radialaxis": {
            "gridcolor": "white",
            "linecolor": "white",
            "ticks": ""
           }
          },
          "scene": {
           "xaxis": {
            "backgroundcolor": "#E5ECF6",
            "gridcolor": "white",
            "gridwidth": 2,
            "linecolor": "white",
            "showbackground": true,
            "ticks": "",
            "zerolinecolor": "white"
           },
           "yaxis": {
            "backgroundcolor": "#E5ECF6",
            "gridcolor": "white",
            "gridwidth": 2,
            "linecolor": "white",
            "showbackground": true,
            "ticks": "",
            "zerolinecolor": "white"
           },
           "zaxis": {
            "backgroundcolor": "#E5ECF6",
            "gridcolor": "white",
            "gridwidth": 2,
            "linecolor": "white",
            "showbackground": true,
            "ticks": "",
            "zerolinecolor": "white"
           }
          },
          "shapedefaults": {
           "line": {
            "color": "#2a3f5f"
           }
          },
          "ternary": {
           "aaxis": {
            "gridcolor": "white",
            "linecolor": "white",
            "ticks": ""
           },
           "baxis": {
            "gridcolor": "white",
            "linecolor": "white",
            "ticks": ""
           },
           "bgcolor": "#E5ECF6",
           "caxis": {
            "gridcolor": "white",
            "linecolor": "white",
            "ticks": ""
           }
          },
          "title": {
           "x": 0.05
          },
          "xaxis": {
           "automargin": true,
           "gridcolor": "white",
           "linecolor": "white",
           "ticks": "",
           "zerolinecolor": "white",
           "zerolinewidth": 2
          },
          "yaxis": {
           "automargin": true,
           "gridcolor": "white",
           "linecolor": "white",
           "ticks": "",
           "zerolinecolor": "white",
           "zerolinewidth": 2
          }
         }
        }
       }
      },
      "text/html": [
       "<div>\n",
       "        \n",
       "        \n",
       "            <div id=\"dcfdf189-cd0d-4e41-8f8e-251beca6fcc5\" class=\"plotly-graph-div\" style=\"height:600px; width:100%;\"></div>\n",
       "            <script type=\"text/javascript\">\n",
       "                require([\"plotly\"], function(Plotly) {\n",
       "                    window.PLOTLYENV=window.PLOTLYENV || {};\n",
       "                    \n",
       "                if (document.getElementById(\"dcfdf189-cd0d-4e41-8f8e-251beca6fcc5\")) {\n",
       "                    Plotly.newPlot(\n",
       "                        'dcfdf189-cd0d-4e41-8f8e-251beca6fcc5',\n",
       "                        [{\"hoverlabel\": {\"namelength\": 0}, \"hovertemplate\": \"support=%{x}<br>confidence=%{y}<br>lift=%{z}\", \"legendgroup\": \"\", \"marker\": {\"color\": \"#636efa\", \"symbol\": \"circle\"}, \"mode\": \"markers\", \"name\": \"\", \"scene\": \"scene\", \"showlegend\": false, \"type\": \"scatter3d\", \"x\": [0.10600706713780919, 0.10600706713780919, 0.2822928936003141, 0.2822928936003141, 0.1126815861798194, 0.1126815861798194], \"y\": [0.23316062176165803, 0.989010989010989, 0.6208981001727116, 0.8207762557077626, 0.2585585585585586, 0.65375854214123], \"z\": [2.1753117348972273, 2.1753117348972273, 1.8052824898857267, 1.8052824898857265, 1.500110816967309, 1.5001108169673087]}],\n",
       "                        {\"height\": 600, \"legend\": {\"tracegroupgap\": 0}, \"margin\": {\"t\": 60}, \"scene\": {\"domain\": {\"x\": [0.0, 0.98], \"y\": [0.0, 1.0]}, \"xaxis\": {\"title\": {\"text\": \"support\"}}, \"yaxis\": {\"title\": {\"text\": \"confidence\"}}, \"zaxis\": {\"title\": {\"text\": \"lift\"}}}, \"template\": {\"data\": {\"bar\": [{\"error_x\": {\"color\": \"#2a3f5f\"}, \"error_y\": {\"color\": \"#2a3f5f\"}, \"marker\": {\"line\": {\"color\": \"#E5ECF6\", \"width\": 0.5}}, \"type\": \"bar\"}], \"barpolar\": [{\"marker\": {\"line\": {\"color\": \"#E5ECF6\", \"width\": 0.5}}, \"type\": \"barpolar\"}], \"carpet\": [{\"aaxis\": {\"endlinecolor\": \"#2a3f5f\", \"gridcolor\": \"white\", \"linecolor\": \"white\", \"minorgridcolor\": \"white\", \"startlinecolor\": \"#2a3f5f\"}, \"baxis\": {\"endlinecolor\": \"#2a3f5f\", \"gridcolor\": \"white\", \"linecolor\": \"white\", \"minorgridcolor\": \"white\", \"startlinecolor\": \"#2a3f5f\"}, \"type\": \"carpet\"}], \"choropleth\": [{\"colorbar\": {\"outlinewidth\": 0, \"ticks\": \"\"}, \"type\": \"choropleth\"}], \"contour\": [{\"colorbar\": {\"outlinewidth\": 0, \"ticks\": \"\"}, \"colorscale\": [[0.0, \"#0d0887\"], [0.1111111111111111, \"#46039f\"], [0.2222222222222222, \"#7201a8\"], [0.3333333333333333, \"#9c179e\"], [0.4444444444444444, \"#bd3786\"], [0.5555555555555556, \"#d8576b\"], [0.6666666666666666, \"#ed7953\"], [0.7777777777777778, \"#fb9f3a\"], [0.8888888888888888, \"#fdca26\"], [1.0, \"#f0f921\"]], \"type\": \"contour\"}], \"contourcarpet\": [{\"colorbar\": {\"outlinewidth\": 0, \"ticks\": \"\"}, \"type\": \"contourcarpet\"}], \"heatmap\": [{\"colorbar\": {\"outlinewidth\": 0, \"ticks\": \"\"}, \"colorscale\": [[0.0, \"#0d0887\"], [0.1111111111111111, \"#46039f\"], [0.2222222222222222, \"#7201a8\"], [0.3333333333333333, \"#9c179e\"], [0.4444444444444444, \"#bd3786\"], [0.5555555555555556, \"#d8576b\"], [0.6666666666666666, \"#ed7953\"], [0.7777777777777778, \"#fb9f3a\"], [0.8888888888888888, \"#fdca26\"], [1.0, \"#f0f921\"]], \"type\": \"heatmap\"}], \"heatmapgl\": [{\"colorbar\": {\"outlinewidth\": 0, \"ticks\": \"\"}, \"colorscale\": [[0.0, \"#0d0887\"], [0.1111111111111111, \"#46039f\"], [0.2222222222222222, \"#7201a8\"], [0.3333333333333333, \"#9c179e\"], [0.4444444444444444, \"#bd3786\"], [0.5555555555555556, \"#d8576b\"], [0.6666666666666666, \"#ed7953\"], [0.7777777777777778, \"#fb9f3a\"], [0.8888888888888888, \"#fdca26\"], [1.0, \"#f0f921\"]], \"type\": \"heatmapgl\"}], \"histogram\": [{\"marker\": {\"colorbar\": {\"outlinewidth\": 0, \"ticks\": \"\"}}, \"type\": \"histogram\"}], \"histogram2d\": [{\"colorbar\": {\"outlinewidth\": 0, \"ticks\": \"\"}, \"colorscale\": [[0.0, \"#0d0887\"], [0.1111111111111111, \"#46039f\"], [0.2222222222222222, \"#7201a8\"], [0.3333333333333333, \"#9c179e\"], [0.4444444444444444, \"#bd3786\"], [0.5555555555555556, \"#d8576b\"], [0.6666666666666666, \"#ed7953\"], [0.7777777777777778, \"#fb9f3a\"], [0.8888888888888888, \"#fdca26\"], [1.0, \"#f0f921\"]], \"type\": \"histogram2d\"}], \"histogram2dcontour\": [{\"colorbar\": {\"outlinewidth\": 0, \"ticks\": \"\"}, \"colorscale\": [[0.0, \"#0d0887\"], [0.1111111111111111, \"#46039f\"], [0.2222222222222222, \"#7201a8\"], [0.3333333333333333, \"#9c179e\"], [0.4444444444444444, \"#bd3786\"], [0.5555555555555556, \"#d8576b\"], [0.6666666666666666, \"#ed7953\"], [0.7777777777777778, \"#fb9f3a\"], [0.8888888888888888, \"#fdca26\"], [1.0, \"#f0f921\"]], \"type\": \"histogram2dcontour\"}], \"mesh3d\": [{\"colorbar\": {\"outlinewidth\": 0, \"ticks\": \"\"}, \"type\": \"mesh3d\"}], \"parcoords\": [{\"line\": {\"colorbar\": {\"outlinewidth\": 0, \"ticks\": \"\"}}, \"type\": \"parcoords\"}], \"scatter\": [{\"marker\": {\"colorbar\": {\"outlinewidth\": 0, \"ticks\": \"\"}}, \"type\": \"scatter\"}], \"scatter3d\": [{\"line\": {\"colorbar\": {\"outlinewidth\": 0, \"ticks\": \"\"}}, \"marker\": {\"colorbar\": {\"outlinewidth\": 0, \"ticks\": \"\"}}, \"type\": \"scatter3d\"}], \"scattercarpet\": [{\"marker\": {\"colorbar\": {\"outlinewidth\": 0, \"ticks\": \"\"}}, \"type\": \"scattercarpet\"}], \"scattergeo\": [{\"marker\": {\"colorbar\": {\"outlinewidth\": 0, \"ticks\": \"\"}}, \"type\": \"scattergeo\"}], \"scattergl\": [{\"marker\": {\"colorbar\": {\"outlinewidth\": 0, \"ticks\": \"\"}}, \"type\": \"scattergl\"}], \"scattermapbox\": [{\"marker\": {\"colorbar\": {\"outlinewidth\": 0, \"ticks\": \"\"}}, \"type\": \"scattermapbox\"}], \"scatterpolar\": [{\"marker\": {\"colorbar\": {\"outlinewidth\": 0, \"ticks\": \"\"}}, \"type\": \"scatterpolar\"}], \"scatterpolargl\": [{\"marker\": {\"colorbar\": {\"outlinewidth\": 0, \"ticks\": \"\"}}, \"type\": \"scatterpolargl\"}], \"scatterternary\": [{\"marker\": {\"colorbar\": {\"outlinewidth\": 0, \"ticks\": \"\"}}, \"type\": \"scatterternary\"}], \"surface\": [{\"colorbar\": {\"outlinewidth\": 0, \"ticks\": \"\"}, \"colorscale\": [[0.0, \"#0d0887\"], [0.1111111111111111, \"#46039f\"], [0.2222222222222222, \"#7201a8\"], [0.3333333333333333, \"#9c179e\"], [0.4444444444444444, \"#bd3786\"], [0.5555555555555556, \"#d8576b\"], [0.6666666666666666, \"#ed7953\"], [0.7777777777777778, \"#fb9f3a\"], [0.8888888888888888, \"#fdca26\"], [1.0, \"#f0f921\"]], \"type\": \"surface\"}], \"table\": [{\"cells\": {\"fill\": {\"color\": \"#EBF0F8\"}, \"line\": {\"color\": \"white\"}}, \"header\": {\"fill\": {\"color\": \"#C8D4E3\"}, \"line\": {\"color\": \"white\"}}, \"type\": \"table\"}]}, \"layout\": {\"annotationdefaults\": {\"arrowcolor\": \"#2a3f5f\", \"arrowhead\": 0, \"arrowwidth\": 1}, \"colorscale\": {\"diverging\": [[0, \"#8e0152\"], [0.1, \"#c51b7d\"], [0.2, \"#de77ae\"], [0.3, \"#f1b6da\"], [0.4, \"#fde0ef\"], [0.5, \"#f7f7f7\"], [0.6, \"#e6f5d0\"], [0.7, \"#b8e186\"], [0.8, \"#7fbc41\"], [0.9, \"#4d9221\"], [1, \"#276419\"]], \"sequential\": [[0.0, \"#0d0887\"], [0.1111111111111111, \"#46039f\"], [0.2222222222222222, \"#7201a8\"], [0.3333333333333333, \"#9c179e\"], [0.4444444444444444, \"#bd3786\"], [0.5555555555555556, \"#d8576b\"], [0.6666666666666666, \"#ed7953\"], [0.7777777777777778, \"#fb9f3a\"], [0.8888888888888888, \"#fdca26\"], [1.0, \"#f0f921\"]], \"sequentialminus\": [[0.0, \"#0d0887\"], [0.1111111111111111, \"#46039f\"], [0.2222222222222222, \"#7201a8\"], [0.3333333333333333, \"#9c179e\"], [0.4444444444444444, \"#bd3786\"], [0.5555555555555556, \"#d8576b\"], [0.6666666666666666, \"#ed7953\"], [0.7777777777777778, \"#fb9f3a\"], [0.8888888888888888, \"#fdca26\"], [1.0, \"#f0f921\"]]}, \"colorway\": [\"#636efa\", \"#EF553B\", \"#00cc96\", \"#ab63fa\", \"#FFA15A\", \"#19d3f3\", \"#FF6692\", \"#B6E880\", \"#FF97FF\", \"#FECB52\"], \"font\": {\"color\": \"#2a3f5f\"}, \"geo\": {\"bgcolor\": \"white\", \"lakecolor\": \"white\", \"landcolor\": \"#E5ECF6\", \"showlakes\": true, \"showland\": true, \"subunitcolor\": \"white\"}, \"hoverlabel\": {\"align\": \"left\"}, \"hovermode\": \"closest\", \"mapbox\": {\"style\": \"light\"}, \"paper_bgcolor\": \"white\", \"plot_bgcolor\": \"#E5ECF6\", \"polar\": {\"angularaxis\": {\"gridcolor\": \"white\", \"linecolor\": \"white\", \"ticks\": \"\"}, \"bgcolor\": \"#E5ECF6\", \"radialaxis\": {\"gridcolor\": \"white\", \"linecolor\": \"white\", \"ticks\": \"\"}}, \"scene\": {\"xaxis\": {\"backgroundcolor\": \"#E5ECF6\", \"gridcolor\": \"white\", \"gridwidth\": 2, \"linecolor\": \"white\", \"showbackground\": true, \"ticks\": \"\", \"zerolinecolor\": \"white\"}, \"yaxis\": {\"backgroundcolor\": \"#E5ECF6\", \"gridcolor\": \"white\", \"gridwidth\": 2, \"linecolor\": \"white\", \"showbackground\": true, \"ticks\": \"\", \"zerolinecolor\": \"white\"}, \"zaxis\": {\"backgroundcolor\": \"#E5ECF6\", \"gridcolor\": \"white\", \"gridwidth\": 2, \"linecolor\": \"white\", \"showbackground\": true, \"ticks\": \"\", \"zerolinecolor\": \"white\"}}, \"shapedefaults\": {\"line\": {\"color\": \"#2a3f5f\"}}, \"ternary\": {\"aaxis\": {\"gridcolor\": \"white\", \"linecolor\": \"white\", \"ticks\": \"\"}, \"baxis\": {\"gridcolor\": \"white\", \"linecolor\": \"white\", \"ticks\": \"\"}, \"bgcolor\": \"#E5ECF6\", \"caxis\": {\"gridcolor\": \"white\", \"linecolor\": \"white\", \"ticks\": \"\"}}, \"title\": {\"x\": 0.05}, \"xaxis\": {\"automargin\": true, \"gridcolor\": \"white\", \"linecolor\": \"white\", \"ticks\": \"\", \"zerolinecolor\": \"white\", \"zerolinewidth\": 2}, \"yaxis\": {\"automargin\": true, \"gridcolor\": \"white\", \"linecolor\": \"white\", \"ticks\": \"\", \"zerolinecolor\": \"white\", \"zerolinewidth\": 2}}}},\n",
       "                        {\"responsive\": true}\n",
       "                    ).then(function(){\n",
       "                            \n",
       "var gd = document.getElementById('dcfdf189-cd0d-4e41-8f8e-251beca6fcc5');\n",
       "var x = new MutationObserver(function (mutations, observer) {{\n",
       "        var display = window.getComputedStyle(gd).display;\n",
       "        if (!display || display === 'none') {{\n",
       "            console.log([gd, 'removed!']);\n",
       "            Plotly.purge(gd);\n",
       "            observer.disconnect();\n",
       "        }}\n",
       "}});\n",
       "\n",
       "// Listen for the removal of the full notebook cells\n",
       "var notebookContainer = gd.closest('#notebook-container');\n",
       "if (notebookContainer) {{\n",
       "    x.observe(notebookContainer, {childList: true});\n",
       "}}\n",
       "\n",
       "// Listen for the clearing of the current output cell\n",
       "var outputEl = gd.closest('.output');\n",
       "if (outputEl) {{\n",
       "    x.observe(outputEl, {childList: true});\n",
       "}}\n",
       "\n",
       "                        })\n",
       "                };\n",
       "                });\n",
       "            </script>\n",
       "        </div>"
      ]
     },
     "metadata": {},
     "output_type": "display_data"
    }
   ],
   "source": [
    "import plotly.express as px\n",
    "df = rules_ca\n",
    "fig = px.scatter_3d(df, x='support', y='confidence', z='lift')\n",
    "fig.show()"
   ]
  },
  {
   "cell_type": "code",
   "execution_count": null,
   "metadata": {},
   "outputs": [],
   "source": []
  }
 ],
 "metadata": {
  "kernelspec": {
   "display_name": "Python 3",
   "language": "python",
   "name": "python3"
  },
  "language_info": {
   "codemirror_mode": {
    "name": "ipython",
    "version": 3
   },
   "file_extension": ".py",
   "mimetype": "text/x-python",
   "name": "python",
   "nbconvert_exporter": "python",
   "pygments_lexer": "ipython3",
   "version": "3.6.4"
  }
 },
 "nbformat": 4,
 "nbformat_minor": 2
}
